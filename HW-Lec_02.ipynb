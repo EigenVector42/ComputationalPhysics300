{
 "cells": [
  {
   "cell_type": "code",
   "execution_count": null,
   "metadata": {},
   "outputs": [],
   "source": [
    "'''\n",
    "    I wasn't sure whether we could use the math library factorial function\n",
    "    for calculating the the multiplicty or if we needed to create our own factorial\n",
    "    function, so I decided to do both.\n",
    "'''"
   ]
  },
  {
   "cell_type": "code",
   "execution_count": 18,
   "metadata": {},
   "outputs": [],
   "source": [
    "def Einstein_solid(N , q):\n",
    "    '''Uses the factorial function from the math library to calculate the '''\n",
    "    from math import factorial\n",
    "    \n",
    "    multiplicity = factorial(q + N -1) / (factorial(q) * factorial(N - 1))\n",
    "    return int(multiplicity)"
   ]
  },
  {
   "cell_type": "code",
   "execution_count": 19,
   "metadata": {},
   "outputs": [
    {
     "name": "stdout",
     "output_type": "stream",
     "text": [
      "1\n",
      "3\n",
      "6\n",
      "10\n",
      "15\n",
      "21\n",
      "66\n"
     ]
    }
   ],
   "source": [
    "print(Einstein_solid(3,0))\n",
    "print(Einstein_solid(3,1))\n",
    "print(Einstein_solid(3,2))\n",
    "print(Einstein_solid(3,3))\n",
    "print(Einstein_solid(3,4))\n",
    "print(Einstein_solid(3,5))\n",
    "print(Einstein_solid(3,10))"
   ]
  },
  {
   "cell_type": "code",
   "execution_count": 14,
   "metadata": {},
   "outputs": [],
   "source": [
    "def Fact(N):\n",
    "    '''Calculates the factorial of the argument N through recursion'''\n",
    "    if N < 1:\n",
    "        return 1\n",
    "    else:\n",
    "        return N*Fact(N-1)  "
   ]
  },
  {
   "cell_type": "code",
   "execution_count": 2,
   "metadata": {},
   "outputs": [],
   "source": [
    "def Einstein_solid2(N , q):\n",
    "    '''Uses the recursive Fact(N) function to calculate the multiplicity\n",
    "    for an Einstein Solid.'''\n",
    "    multiplicity = Fact(q + N -1) / (Fact(q) * Fact(N - 1))\n",
    "    return int(multiplicity)"
   ]
  },
  {
   "cell_type": "code",
   "execution_count": 8,
   "metadata": {},
   "outputs": [
    {
     "name": "stdout",
     "output_type": "stream",
     "text": [
      "1\n",
      "3\n",
      "6\n",
      "10\n",
      "15\n",
      "21\n",
      "66\n"
     ]
    }
   ],
   "source": [
    "print(Einstein_solid2(3,0))\n",
    "print(Einstein_solid2(3,1))\n",
    "print(Einstein_solid2(3,2))\n",
    "print(Einstein_solid2(3,3))\n",
    "print(Einstein_solid2(3,4))\n",
    "print(Einstein_solid2(3,5))\n",
    "print(Einstein_solid2(3,10))"
   ]
  },
  {
   "cell_type": "code",
   "execution_count": 15,
   "metadata": {},
   "outputs": [
    {
     "name": "stdout",
     "output_type": "stream",
     "text": [
      "Help on function Fact in module __main__:\n",
      "\n",
      "Fact(N)\n",
      "    calculates the factorial through recursion\n",
      "\n"
     ]
    }
   ],
   "source": [
    "help(Fact)"
   ]
  },
  {
   "cell_type": "code",
   "execution_count": 17,
   "metadata": {},
   "outputs": [
    {
     "name": "stdout",
     "output_type": "stream",
     "text": [
      "Help on function Einstein_solid2 in module __main__:\n",
      "\n",
      "Einstein_solid2(N, q)\n",
      "    Uses the recursive Fact(N) function to calculate the multiplicity\n",
      "    for an Einstein Solid.\n",
      "\n"
     ]
    }
   ],
   "source": [
    "help(Einstein_solid2)"
   ]
  }
 ],
 "metadata": {
  "kernelspec": {
   "display_name": "Python 3",
   "language": "python",
   "name": "python3"
  },
  "language_info": {
   "codemirror_mode": {
    "name": "ipython",
    "version": 3
   },
   "file_extension": ".py",
   "mimetype": "text/x-python",
   "name": "python",
   "nbconvert_exporter": "python",
   "pygments_lexer": "ipython3",
   "version": "3.8.3"
  },
  "varInspector": {
   "cols": {
    "lenName": 16,
    "lenType": 16,
    "lenVar": 40
   },
   "kernels_config": {
    "python": {
     "delete_cmd_postfix": "",
     "delete_cmd_prefix": "del ",
     "library": "var_list.py",
     "varRefreshCmd": "print(var_dic_list())"
    },
    "r": {
     "delete_cmd_postfix": ") ",
     "delete_cmd_prefix": "rm(",
     "library": "var_list.r",
     "varRefreshCmd": "cat(var_dic_list()) "
    }
   },
   "types_to_exclude": [
    "module",
    "function",
    "builtin_function_or_method",
    "instance",
    "_Feature"
   ],
   "window_display": false
  }
 },
 "nbformat": 4,
 "nbformat_minor": 4
}
