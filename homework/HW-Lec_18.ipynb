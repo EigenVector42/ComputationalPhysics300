{
 "cells": [
  {
   "cell_type": "markdown",
   "metadata": {},
   "source": [
    "## Lecture 18 Homework\n",
    "\n",
    "Try different minimization methods in scipy on larger systems ($N$=8, 10, 13), and show \n",
    "- 1 the average number of attempts to find the ground state\n",
    "- 2 the time costs\n",
    "\n",
    "\n",
    "### Optional\n",
    "try to improve the code to make it run faster, analyze the most time consuming part and give your solution\n",
    "\n",
    "[Reference](http://doye.chem.ox.ac.uk/jon/structures/LJ/tables.150.html)"
   ]
  },
  {
   "cell_type": "code",
   "execution_count": 1,
   "metadata": {
    "ExecuteTime": {
     "end_time": "2020-11-02T08:58:54.066805Z",
     "start_time": "2020-11-02T08:58:52.861806Z"
    }
   },
   "outputs": [],
   "source": [
    "%matplotlib inline\n",
    "#matplotlib notebook\n",
    "\n",
    "\n",
    "import matplotlib.pyplot as plt\n",
    "import numpy as np\n",
    "import scipy as sp\n",
    "import pandas as pd\n",
    "# from ase.visualize import view\n",
    "# from ase import Atoms\n",
    "import requests\n",
    "from scipy.optimize import minimize\n",
    "from time import time\n",
    "# from mpl_toolkits.mplot3d import Axes3D\n",
    "\n",
    "# Plot text color, uncomment 'black' for a light background\n",
    "COLOR = 'white'\n",
    "#COLOR = 'black'\n",
    "\n",
    "plt.rcParams['axes.facecolor']= '#373e4b'\n",
    "plt.rcParams['axes.labelcolor'] = COLOR\n",
    "# plt.rcParams['axes.prop_cycle'] = cycler(color='bgrcmyk')\n",
    "plt.rcParams['text.color'] = COLOR\n",
    "plt.rcParams['axes.labelcolor'] = COLOR\n",
    "plt.rcParams['xtick.color'] = COLOR\n",
    "plt.rcParams['ytick.color'] = COLOR\n"
   ]
  },
  {
   "cell_type": "code",
   "execution_count": 2,
   "metadata": {
    "ExecuteTime": {
     "end_time": "2020-11-02T08:58:54.082805Z",
     "start_time": "2020-11-02T08:58:54.068804Z"
    }
   },
   "outputs": [],
   "source": [
    "def LJ(r, epsilon=1, sigma=1):\n",
    "    r6 = r**6\n",
    "    r12 = r**12\n",
    "    s6 = sigma**6\n",
    "    s12 = sigma**12\n",
    "    return 4*epsilon*(s12/r12 - s6/r6)\n",
    "\n",
    "def total_energy(positions, display=False):\n",
    "    \"\"\"\n",
    "    Calculate the total energy\n",
    "    input:\n",
    "    positions: 3*N array which represents the atomic positions\n",
    "    output\n",
    "    E: the total energy\n",
    "    \"\"\"\n",
    "    E = 0\n",
    "    N_atom = int(len(positions)/3)\n",
    "\n",
    "    #positions = [x0, y0, z0, x1, y1, z1, .....  , xn, yn, zn]\n",
    "    for i in range(N_atom-1):\n",
    "        for j in range(i+1, N_atom):  \n",
    "            pos1 = positions[i*3:(i+1)*3]\n",
    "            pos2 = positions[j*3:(j+1)*3]\n",
    "            dist = np.linalg.norm(pos1-pos2)\n",
    "            if display:\n",
    "                print('pos1:  ', pos1)\n",
    "                print('pos2:  ', pos2)\n",
    "                print(i,j, dist)\n",
    "            E += LJ(dist)\n",
    "    return E\n",
    "            \n",
    "def init_pos(N, L=5):\n",
    "    return L*np.random.random_sample((N*3,))\n",
    "\n",
    "def get_pos_from_url(address='http://doye.chem.ox.ac.uk/jon/structures/LJ/points/', N=7):\n",
    "    url_address = address + str(N)\n",
    "    data_str = requests.get(url_address).text\n",
    "    return parse_url_text(data_str)    \n",
    "    \n",
    "def parse_url_text(data_str):\n",
    "    x_array = []\n",
    "    text = data_str.split('\\n')\n",
    "    for line in text:\n",
    "        [x_array.append(float(i)) for i in line.split()]\n",
    "    return np.array(x_array)"
   ]
  },
  {
   "cell_type": "code",
   "execution_count": 3,
   "metadata": {
    "ExecuteTime": {
     "end_time": "2020-11-02T08:58:54.098803Z",
     "start_time": "2020-11-02T08:58:54.084805Z"
    }
   },
   "outputs": [],
   "source": [
    "\n",
    "def LJ_Global_Min(N_atom=8,\n",
    "                  N_attempts=10, \n",
    "                  solver='CG', \n",
    "                  hist=False, \n",
    "                  details=False,\n",
    "                  Length=3,\n",
    "                  tolerance=0.01):\n",
    "\n",
    "    f_values = []\n",
    "    x_values = []\n",
    "    \n",
    "    #published values for 8, 10, & 13 atoms\n",
    "    LJN_Energy = {3: -3.000000,\n",
    "                  8: -19.821489,\n",
    "                  10: -28.422532,\n",
    "                  13: -44.326801}\n",
    "    \n",
    "\n",
    "    t = time() #timimg function\n",
    "    # calculates the mins\n",
    "    for i in range(N_attempts):\n",
    "        pos = init_pos(N_atom, L=Length)\n",
    "        res = minimize(total_energy, pos, method=solver, tol=1e-4)\n",
    "        f_values.append(res.fun)\n",
    "        x_values.append(res.x)\n",
    "        if i%10==0:\n",
    "            print('step: ', i, '  values:', res.fun)\n",
    "\n",
    "    global_min = min(f_values)\n",
    "\n",
    "    elapsed = time() - t\n",
    "\n",
    "    print('The global minimum:  ', global_min)\n",
    "    if N_atom in LJN_Energy: \n",
    "        print('Published Minimum:   ', LJN_Energy[N_atom])\n",
    "\n",
    "    global_min = min(f_values)\n",
    "\n",
    "    if details:\n",
    "        counter = 0\n",
    "\n",
    "        for n in f_values:\n",
    "            #print(n)\n",
    "            if abs(LJN_Energy[N_atom] - n) <= tolerance:\n",
    "                counter +=1\n",
    "                #print('counted')\n",
    "\n",
    "        stat = counter/len(f_values)*100\n",
    "        dis = 'The Global minimum is reached ' + str(stat) + '% out of ' + str(len(f_values)) +' attempts.'\n",
    "        # print(counter)\n",
    "        print(dis)\n",
    "        print('With an elapsed time of ', elapsed ,'seconds with solver', solver)\n",
    "    \n",
    "    if hist:\n",
    "        plt.title('LJ cluster:  '+ str(N_attempts)+ ' runs;  for N = ' + str(N_atom)+' atoms')\n",
    "        plt.hist(f_values,50)\n",
    "        plt.show()\n",
    "        \n",
    "    return global_min, elapsed\n",
    "\n",
    "N_attempts = [1, 10, 20, 30, 40, 50, 60, 70, 80, 90, 100]\n",
    "N_atom = [8, 10, 13]\n",
    "solver = ['Nelder-Mead',  #0\n",
    "          'Powell',       #1\n",
    "          'CG',           #2\n",
    "          'BFGS',         #3\n",
    "          'Newton-CG',    #4\n",
    "          'L-BFGS-B',     #5\n",
    "          'TNC',          #6\n",
    "          'COBYLA',       #7\n",
    "          'SLSQP',        #8\n",
    "          'trust-constr', #9\n",
    "          'dogleg',       #10\n",
    "          'trust-ncg',    #11\n",
    "          'trust-exact',  #12\n",
    "          'trust-krylov'] #13"
   ]
  },
  {
   "cell_type": "markdown",
   "metadata": {
    "deletable": false,
    "editable": false
   },
   "source": [
    "### N=8 atoms, Nedler-Mead, 100 attempts"
   ]
  },
  {
   "cell_type": "code",
   "execution_count": 27,
   "metadata": {
    "ExecuteTime": {
     "end_time": "2020-11-02T11:53:19.928205Z",
     "start_time": "2020-11-02T11:51:07.538108Z"
    }
   },
   "outputs": [
    {
     "name": "stdout",
     "output_type": "stream",
     "text": [
      "step:  0   values: -19.04654152784037\n",
      "step:  10   values: -17.475913270347593\n",
      "step:  20   values: -18.240613236574006\n",
      "step:  30   values: -17.900112825803983\n",
      "step:  40   values: -18.780328144944363\n",
      "step:  50   values: -17.77861862333019\n",
      "step:  60   values: -18.533397211062173\n",
      "step:  70   values: -18.175396654695504\n",
      "step:  80   values: -18.8922841872429\n",
      "step:  90   values: -16.663731965127965\n",
      "The global minimum:   -19.80489538941289\n",
      "Published Minimum:    -19.821489\n",
      "The Global minimum is reached 0.0% out of 100 attempts.\n",
      "With an elapsed time of  132.22851395606995 seconds with solver Nelder-Mead\n"
     ]
    },
    {
     "data": {
      "image/png": "[encoded data removed]",
      "text/plain": [
       "<Figure size 432x288 with 1 Axes>"
      ]
     },
     "metadata": {
      "needs_background": "dark"
     },
     "output_type": "display_data"
    },
    {
     "data": {
      "text/plain": [
       "(-19.80489538941289, 132.22851395606995)"
      ]
     },
     "execution_count": 27,
     "metadata": {},
     "output_type": "execute_result"
    }
   ],
   "source": [
    "LJ_Global_Min(N_atom=N_atom[0], \n",
    "              N_attempts=N_attempts[10], \n",
    "              solver=solver[0], \n",
    "              details=True, \n",
    "              hist=True, \n",
    "              Length=2,\n",
    "              tolerance=0.00001)"
   ]
  },
  {
   "cell_type": "markdown",
   "metadata": {
    "deletable": false,
    "editable": false
   },
   "source": [
    "### N=8 atoms, CG, 100 attempts"
   ]
  },
  {
   "cell_type": "code",
   "execution_count": 5,
   "metadata": {
    "ExecuteTime": {
     "end_time": "2020-11-02T09:03:00.651825Z",
     "start_time": "2020-11-02T09:00:57.637360Z"
    }
   },
   "outputs": [
    {
     "name": "stdout",
     "output_type": "stream",
     "text": [
      "step:  0   values: -3.0000017756409076\n",
      "step:  10   values: -6.000000526935079\n",
      "step:  20   values: -0.39940510510302357\n",
      "step:  30   values: -12.302927946624248\n",
      "step:  40   values: -19.821489192017026\n",
      "step:  50   values: -19.821489192050976\n",
      "step:  60   values: -3.0000060519367695\n",
      "step:  70   values: -7.0000360472791145\n",
      "step:  80   values: -19.765297850793182\n",
      "step:  90   values: -19.821489191836484\n",
      "The global minimum:   -19.82148919210066\n",
      "Published Minimum:    -19.821489\n",
      "The Global minimum is reached 19.0% out of 100 attempts.\n",
      "With an elapsed time of  122.82542943954468 seconds with solver CG\n"
     ]
    },
    {
     "data": {
      "image/png": "[encoded data removed]",
      "text/plain": [
       "<Figure size 432x288 with 1 Axes>"
      ]
     },
     "metadata": {
      "needs_background": "dark"
     },
     "output_type": "display_data"
    },
    {
     "data": {
      "text/plain": [
       "(-19.82148919210066, 122.82542943954468)"
      ]
     },
     "execution_count": 5,
     "metadata": {},
     "output_type": "execute_result"
    }
   ],
   "source": [
    "LJ_Global_Min(N_atom=N_atom[0], \n",
    "              N_attempts=N_attempts[10], \n",
    "              solver=solver[2], \n",
    "              details=True, \n",
    "              hist=True, \n",
    "              Length=2,\n",
    "              tolerance=0.00001)"
   ]
  },
  {
   "cell_type": "markdown",
   "metadata": {
    "deletable": false,
    "editable": false
   },
   "source": [
    "### N=8 atoms, BFGS, 100 attempts"
   ]
  },
  {
   "cell_type": "code",
   "execution_count": 6,
   "metadata": {
    "ExecuteTime": {
     "end_time": "2020-11-02T09:04:55.579382Z",
     "start_time": "2020-11-02T09:03:00.652788Z"
    },
    "deletable": false,
    "editable": false
   },
   "outputs": [
    {
     "name": "stdout",
     "output_type": "stream",
     "text": [
      "step:  0   values: -6.000107725216503\n",
      "step:  10   values: -6.000126308312963\n",
      "step:  20   values: -19.76529785078052\n",
      "step:  30   values: -3.0000000034171257\n",
      "step:  40   values: -4.372414077344524e-09\n",
      "step:  50   values: -19.821489192133086\n",
      "step:  60   values: -1.0000375154918928\n",
      "step:  70   values: -15.533165251275502\n",
      "step:  80   values: -13.30292754205104\n",
      "step:  90   values: -2.2006739131085556e-07\n",
      "The global minimum:   -19.821489192149997\n",
      "Published Minimum:    -19.821489\n",
      "The Global minimum is reached 10.0% out of 100 attempts.\n",
      "With an elapsed time of  114.74958229064941 seconds with solver BFGS\n"
     ]
    },
    {
     "data": {
      "image/png": "[encoded data removed]",
      "text/plain": [
       "<Figure size 432x288 with 1 Axes>"
      ]
     },
     "metadata": {
      "needs_background": "dark"
     },
     "output_type": "display_data"
    },
    {
     "data": {
      "text/plain": [
       "(-19.821489192149997, 114.74958229064941)"
      ]
     },
     "execution_count": 6,
     "metadata": {},
     "output_type": "execute_result"
    }
   ],
   "source": [
    "LJ_Global_Min(N_atom=N_atom[0], \n",
    "              N_attempts=N_attempts[10], \n",
    "              solver=solver[3], \n",
    "              details=True, \n",
    "              hist=True, \n",
    "              Length=2,\n",
    "              tolerance=0.00001)"
   ]
  },
  {
   "cell_type": "markdown",
   "metadata": {},
   "source": [
    "### N=10 atoms, Nedler-Mead, 100 attempts"
   ]
  },
  {
   "cell_type": "code",
   "execution_count": 7,
   "metadata": {
    "ExecuteTime": {
     "end_time": "2020-11-02T09:09:26.479104Z",
     "start_time": "2020-11-02T09:04:55.580375Z"
    }
   },
   "outputs": [
    {
     "name": "stdout",
     "output_type": "stream",
     "text": [
      "step:  0   values: -27.193266846851394\n",
      "step:  10   values: -25.97435153595503\n",
      "step:  20   values: -24.987995065495202\n",
      "step:  30   values: -24.943379464496\n",
      "step:  40   values: -25.632996877307534\n",
      "step:  50   values: -22.861533624962718\n",
      "step:  60   values: -27.043939679407686\n",
      "step:  70   values: -25.483202381143\n",
      "step:  80   values: -20.463870717066435\n",
      "step:  90   values: -23.807115558663813\n",
      "The global minimum:   -27.99567813262302\n",
      "Published Minimum:    -28.422532\n",
      "The Global minimum is reached 0.0% out of 100 attempts.\n",
      "With an elapsed time of  270.6836693286896 seconds with solver Nelder-Mead\n"
     ]
    },
    {
     "data": {
      "image/png": "[encoded data removed]",
      "text/plain": [
       "<Figure size 432x288 with 1 Axes>"
      ]
     },
     "metadata": {
      "needs_background": "dark"
     },
     "output_type": "display_data"
    },
    {
     "data": {
      "text/plain": [
       "(-27.99567813262302, 270.6836693286896)"
      ]
     },
     "execution_count": 7,
     "metadata": {},
     "output_type": "execute_result"
    }
   ],
   "source": [
    "LJ_Global_Min(N_atom=N_atom[1], \n",
    "              N_attempts=N_attempts[10], \n",
    "              solver=solver[0], \n",
    "              details=True, \n",
    "              hist=True, \n",
    "              Length=2,\n",
    "              tolerance=0.00001)"
   ]
  },
  {
   "cell_type": "markdown",
   "metadata": {},
   "source": [
    "### N=10 atoms, CG, 100 attempts"
   ]
  },
  {
   "cell_type": "code",
   "execution_count": 9,
   "metadata": {
    "ExecuteTime": {
     "end_time": "2020-11-02T09:22:54.711392Z",
     "start_time": "2020-11-02T09:15:53.698266Z"
    }
   },
   "outputs": [
    {
     "name": "stdout",
     "output_type": "stream",
     "text": [
      "step:  0   values: -26.558010931858853\n",
      "step:  10   values: -6.0000001797780556\n",
      "step:  20   values: -6.000068200729318\n",
      "step:  30   values: -28.422531893068477\n",
      "step:  40   values: -27.44682896736879\n",
      "step:  50   values: -9.10385241573904\n",
      "step:  60   values: -9.10385244839037\n",
      "step:  70   values: -27.479738906119785\n",
      "step:  80   values: -27.479738906282837\n",
      "step:  90   values: -19.8215072354472\n",
      "The global minimum:   -28.422531893362773\n",
      "Published Minimum:    -28.422532\n",
      "The Global minimum is reached 7.000000000000001% out of 100 attempts.\n",
      "With an elapsed time of  420.7821114063263 seconds with solver CG\n"
     ]
    },
    {
     "data": {
      "image/png": "[encoded data removed]",
      "text/plain": [
       "<Figure size 432x288 with 1 Axes>"
      ]
     },
     "metadata": {
      "needs_background": "dark"
     },
     "output_type": "display_data"
    },
    {
     "data": {
      "text/plain": [
       "(-28.422531893362773, 420.7821114063263)"
      ]
     },
     "execution_count": 9,
     "metadata": {},
     "output_type": "execute_result"
    }
   ],
   "source": [
    "LJ_Global_Min(N_atom=N_atom[1], \n",
    "              N_attempts=N_attempts[10], \n",
    "              solver=solver[2], \n",
    "              details=True, \n",
    "              hist=True, \n",
    "              Length=2,\n",
    "              tolerance=0.00001)"
   ]
  },
  {
   "cell_type": "markdown",
   "metadata": {},
   "source": [
    "### N=10 atoms, BFGS, 100 attempts"
   ]
  },
  {
   "cell_type": "code",
   "execution_count": 10,
   "metadata": {
    "ExecuteTime": {
     "end_time": "2020-11-02T09:30:27.460626Z",
     "start_time": "2020-11-02T09:24:33.802515Z"
    }
   },
   "outputs": [
    {
     "name": "stdout",
     "output_type": "stream",
     "text": [
      "step:  0   values: -15.593290141993684\n",
      "step:  10   values: -15.593212628626118\n",
      "step:  20   values: -3.0000106750420446\n",
      "step:  30   values: -9.103852402880428\n",
      "step:  40   values: -20.821489187625975\n",
      "step:  50   values: -22.180733481375093\n",
      "step:  60   values: -6.000000001995603\n",
      "step:  70   values: -8.00000000013113\n",
      "step:  80   values: -26.418356107567824\n",
      "step:  90   values: -27.479738906416532\n",
      "The global minimum:   -28.422531893285687\n",
      "Published Minimum:    -28.422532\n",
      "The Global minimum is reached 1.0% out of 100 attempts.\n",
      "With an elapsed time of  353.45905590057373 seconds with solver BFGS\n"
     ]
    },
    {
     "data": {
      "image/png": "[encoded data removed]",
      "text/plain": [
       "<Figure size 432x288 with 1 Axes>"
      ]
     },
     "metadata": {
      "needs_background": "dark"
     },
     "output_type": "display_data"
    },
    {
     "data": {
      "text/plain": [
       "(-28.422531893285687, 353.45905590057373)"
      ]
     },
     "execution_count": 10,
     "metadata": {},
     "output_type": "execute_result"
    }
   ],
   "source": [
    "LJ_Global_Min(N_atom=N_atom[1], \n",
    "              N_attempts=N_attempts[10], \n",
    "              solver=solver[3], \n",
    "              details=True, \n",
    "              hist=True, \n",
    "              Length=2,\n",
    "              tolerance=0.00001)"
   ]
  },
  {
   "cell_type": "markdown",
   "metadata": {},
   "source": [
    "### N=13 atoms, L-BFGS-B, 200 attempts"
   ]
  },
  {
   "cell_type": "code",
   "execution_count": 24,
   "metadata": {
    "ExecuteTime": {
     "end_time": "2020-11-02T12:03:42.180547Z",
     "start_time": "2020-11-02T11:53:19.993724Z"
    }
   },
   "outputs": [
    {
     "name": "stdout",
     "output_type": "stream",
     "text": [
      "step:  0   values: -40.601236603225786\n",
      "step:  10   values: -39.76629827693212\n",
      "step:  20   values: -34.66410102050468\n",
      "step:  30   values: -41.46206087826439\n",
      "step:  40   values: -36.848635924821934\n",
      "step:  50   values: -40.709411001026226\n",
      "step:  60   values: -38.642492844344005\n",
      "step:  70   values: -38.922609933996576\n",
      "step:  80   values: -40.60310528080276\n",
      "step:  90   values: -39.715969700645296\n",
      "step:  100   values: -38.91969270797779\n",
      "step:  110   values: -39.71430242777145\n",
      "step:  120   values: -40.672986487120546\n",
      "step:  130   values: -39.618092957977346\n",
      "step:  140   values: -39.50401922296501\n",
      "step:  150   values: -40.61359805544993\n",
      "step:  160   values: -39.62181296698736\n",
      "step:  170   values: -38.77284020009209\n",
      "step:  180   values: -39.70326389505762\n",
      "step:  190   values: -37.92075854086976\n",
      "The global minimum:   -44.3257512004719\n",
      "Published Minimum:    -44.326801\n",
      "The Global minimum is reached 5.5% out of 200 attempts.\n",
      "With an elapsed time of  556.490161895752 seconds with solver L-BFGS-B\n"
     ]
    },
    {
     "data": {
      "image/png": "[encoded data removed]",
      "text/plain": [
       "<Figure size 432x288 with 1 Axes>"
      ]
     },
     "metadata": {
      "needs_background": "dark"
     },
     "output_type": "display_data"
    },
    {
     "data": {
      "text/plain": [
       "(-44.3257512004719, 556.490161895752)"
      ]
     },
     "execution_count": 24,
     "metadata": {},
     "output_type": "execute_result"
    }
   ],
   "source": [
    "LJ_Global_Min(N_atom=N_atom[2], \n",
    "              N_attempts=200, \n",
    "              solver=solver[5], \n",
    "              details=True, \n",
    "              hist=True, \n",
    "              Length=3.5,\n",
    "              tolerance=0.01)"
   ]
  },
  {
   "cell_type": "markdown",
   "metadata": {},
   "source": [
    "### N=13 atoms, CG, 200 attempts"
   ]
  },
  {
   "cell_type": "code",
   "execution_count": 26,
   "metadata": {
    "ExecuteTime": {
     "end_time": "2020-11-02T12:03:42.180547Z",
     "start_time": "2020-11-02T11:53:19.993724Z"
    }
   },
   "outputs": [
    {
     "name": "stdout",
     "output_type": "stream",
     "text": [
      "step:  0   values: -38.31523224837735\n",
      "step:  10   values: -40.433329462536605\n",
      "step:  20   values: -39.77026959036296\n",
      "step:  30   values: -19.821556240426684\n",
      "step:  40   values: -21.88637937284528\n",
      "step:  50   values: -39.83826040442409\n",
      "step:  60   values: -39.75218251522025\n",
      "step:  70   values: -39.62431441056748\n",
      "step:  80   values: -39.468882414085414\n",
      "step:  90   values: -39.43071596091504\n",
      "step:  100   values: -36.559780154897354\n",
      "step:  110   values: -41.394398416426476\n",
      "step:  120   values: -30.510387961330164\n",
      "step:  130   values: -29.812012811561413\n",
      "step:  140   values: -37.98493484641505\n",
      "step:  150   values: -23.170760024307253\n",
      "step:  160   values: -39.717147417752344\n",
      "step:  170   values: -39.70585842853627\n",
      "step:  180   values: -41.47197984736445\n",
      "step:  190   values: -27.27396502273556\n",
      "The global minimum:   -44.32680141951225\n",
      "Published Minimum:    -44.326801\n",
      "The Global minimum is reached 1.0% out of 200 attempts.\n",
      "With an elapsed time of  2577.070953845978 seconds with solver CG\n"
     ]
    },
    {
     "data": {
      "image/png": "[encoded data removed]",
      "text/plain": [
       "<Figure size 432x288 with 1 Axes>"
      ]
     },
     "metadata": {
      "needs_background": "dark"
     },
     "output_type": "display_data"
    },
    {
     "data": {
      "text/plain": [
       "(-44.32680141951225, 2577.070953845978)"
      ]
     },
     "execution_count": 26,
     "metadata": {},
     "output_type": "execute_result"
    }
   ],
   "source": [
    "LJ_Global_Min(N_atom=N_atom[2], \n",
    "              N_attempts=200, \n",
    "              solver=solver[2], \n",
    "              details=True, \n",
    "              hist=True, \n",
    "              Length=4,\n",
    "              tolerance=0.00001)"
   ]
  },
  {
   "cell_type": "markdown",
   "metadata": {},
   "source": [
    "### N=13 atoms, BFGS, 100 attempts"
   ]
  },
  {
   "cell_type": "code",
   "execution_count": 28,
   "metadata": {
    "ExecuteTime": {
     "end_time": "2020-11-02T12:03:42.180547Z",
     "start_time": "2020-11-02T11:53:19.993724Z"
    }
   },
   "outputs": [
    {
     "name": "stdout",
     "output_type": "stream",
     "text": [
      "step:  0   values: -34.763589587929744\n",
      "step:  10   values: -27.522345786346353\n",
      "step:  20   values: -19.821490000500752\n",
      "step:  30   values: -34.45968148321724\n",
      "step:  40   values: -30.856443107613885\n",
      "step:  50   values: -37.626225278422076\n",
      "step:  60   values: -23.04353730066944\n",
      "step:  70   values: -39.64277447493566\n",
      "step:  80   values: -30.920188972381894\n",
      "step:  90   values: -30.82192253620729\n",
      "The global minimum:   -44.326801419455414\n",
      "Published Minimum:    -44.326801\n",
      "The Global minimum is reached 3.0% out of 100 attempts.\n",
      "With an elapsed time of  622.0228245258331 seconds with solver BFGS\n"
     ]
    },
    {
     "data": {
      "image/png": "[encoded data removed]",
      "text/plain": [
       "<Figure size 432x288 with 1 Axes>"
      ]
     },
     "metadata": {
      "needs_background": "dark"
     },
     "output_type": "display_data"
    },
    {
     "data": {
      "text/plain": [
       "(-44.326801419455414, 622.0228245258331)"
      ]
     },
     "execution_count": 28,
     "metadata": {},
     "output_type": "execute_result"
    }
   ],
   "source": [
    "LJ_Global_Min(N_atom=N_atom[2], \n",
    "              N_attempts=N_attempts[10], \n",
    "              solver=solver[3], \n",
    "              details=True, \n",
    "              hist=True, \n",
    "              Length=4,\n",
    "              tolerance=0.00001)"
   ]
  }
 ],
 "metadata": {
  "kernelspec": {
   "display_name": "Python 3",
   "language": "python",
   "name": "python3"
  },
  "language_info": {
   "codemirror_mode": {
    "name": "ipython",
    "version": 3
   },
   "file_extension": ".py",
   "mimetype": "text/x-python",
   "name": "python",
   "nbconvert_exporter": "python",
   "pygments_lexer": "ipython3",
   "version": "3.8.3"
  },
  "varInspector": {
   "cols": {
    "lenName": 16,
    "lenType": 16,
    "lenVar": 40
   },
   "kernels_config": {
    "python": {
     "delete_cmd_postfix": "",
     "delete_cmd_prefix": "del ",
     "library": "var_list.py",
     "varRefreshCmd": "print(var_dic_list())"
    },
    "r": {
     "delete_cmd_postfix": ") ",
     "delete_cmd_prefix": "rm(",
     "library": "var_list.r",
     "varRefreshCmd": "cat(var_dic_list()) "
    }
   },
   "types_to_exclude": [
    "module",
    "function",
    "builtin_function_or_method",
    "instance",
    "_Feature"
   ],
   "window_display": false
  }
 },
 "nbformat": 4,
 "nbformat_minor": 4
}
