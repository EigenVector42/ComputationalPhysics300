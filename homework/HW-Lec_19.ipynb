{
 "cells": [
  {
   "cell_type": "markdown",
   "metadata": {},
   "source": [
    "## Homework Lecture 19\n",
    "\n",
    "Use the basin hopping method to find all the ground states for LJ clusters: (N=10-20).\n",
    "\n",
    "Try to \n",
    "- 1. write down the principles of basin hopping algorithm\n",
    "- 2. choose three numbers between 10 - 20\n",
    "- 3. find the parameters which could lead to the global minimum.\n",
    "- 4. plot the energy evolutions as a function of steps.\n",
    "\n",
    "\n",
    "Extra\n",
    "- visualization of energy landscape: http://pele-python.github.io/pele/#"
   ]
  },
  {
   "cell_type": "code",
   "execution_count": 31,
   "metadata": {
    "ExecuteTime": {
     "end_time": "2020-11-08T10:35:01.472078Z",
     "start_time": "2020-11-08T10:35:01.428834Z"
    },
    "run_control": {
     "marked": true
    }
   },
   "outputs": [],
   "source": [
    "%matplotlib inline\n",
    "#matplotlib notebook\n",
    "\n",
    "\n",
    "import matplotlib.pyplot as plt\n",
    "import numpy as np\n",
    "import scipy as sp\n",
    "from scipy.optimize import basinhopping\n",
    "import pandas as pd \n",
    "from numba import jit\n",
    "from time import time\n",
    "from scipy.optimize import minimize\n",
    "\n",
    "# Plot text color, uncomment 'black' for a light background\n",
    "COLOR = 'white'\n",
    "#COLOR = 'black'\n",
    "\n",
    "plt.rcParams['axes.facecolor']= '#373e4b'\n",
    "plt.rcParams['axes.labelcolor'] = COLOR\n",
    "plt.rcParams['text.color'] = COLOR\n",
    "plt.rcParams['axes.labelcolor'] = COLOR\n",
    "plt.rcParams['xtick.color'] = COLOR\n",
    "plt.rcParams['ytick.color'] = COLOR\n"
   ]
  },
  {
   "cell_type": "code",
   "execution_count": 2,
   "metadata": {
    "ExecuteTime": {
     "end_time": "2020-11-08T07:53:14.328905Z",
     "start_time": "2020-11-08T07:53:14.314763Z"
    },
    "run_control": {
     "marked": true
    }
   },
   "outputs": [],
   "source": [
    "use_jit = False"
   ]
  },
  {
   "cell_type": "code",
   "execution_count": 3,
   "metadata": {
    "ExecuteTime": {
     "end_time": "2020-11-08T07:53:14.344760Z",
     "start_time": "2020-11-08T07:53:14.330763Z"
    },
    "run_control": {
     "marked": true
    }
   },
   "outputs": [],
   "source": [
    "@jit\n",
    "def LJ(r):\n",
    "    r6 = r**6\n",
    "    r12 = r6*r6\n",
    "    return 4*(1/r12 - 1/r6)\n",
    "\n",
    "@jit\n",
    "def total_energy(positions):\n",
    "    \"\"\"\n",
    "    Calculate the total energy\n",
    "    input:\n",
    "    positions: 3*N array which represents the atomic positions\n",
    "    output\n",
    "    E: the total energy\n",
    "    \"\"\"\n",
    "    E = 0\n",
    "    N_atom = int(len(positions)/3)\n",
    "\n",
    "    #positions = [x0, y0, z0, x1, y1, z1, .....  , xn, yn, zn]\n",
    "    for i in range(N_atom-1):\n",
    "        for j in range(i+1, N_atom):\n",
    "            pos1 = positions[i*3:(i+1)*3]\n",
    "            pos2 = positions[j*3:(j+1)*3]\n",
    "            #print('pos1:  ', pos1)\n",
    "            #print('pos2:  ', pos2)\n",
    "            dist = np.linalg.norm(pos1-pos2)\n",
    "            #print(i,j, dist)\n",
    "            E += LJ(dist)\n",
    "    return E\n",
    "\n",
    "@jit       \n",
    "def init_pos(N, L=5):\n",
    "    return L*np.random.random_sample((N*3,))\n"
   ]
  },
  {
   "cell_type": "code",
   "execution_count": 17,
   "metadata": {
    "ExecuteTime": {
     "end_time": "2020-11-08T08:09:46.085093Z",
     "start_time": "2020-11-08T08:09:46.071982Z"
    }
   },
   "outputs": [],
   "source": [
    "N_atom = list(range(10,21))\n",
    "\n",
    "energies = {10: -28.422532, 11: -32.76597, 12: -37.9676, 13: -44.326801, \n",
    "            14: -47.845157, 15: -52.322627, 16: -56.815742, 17: -61.317995,\n",
    "            18: -66.530949, 19: -72.659782, 20: -77.177043}\n"
   ]
  },
  {
   "cell_type": "code",
   "execution_count": 25,
   "metadata": {
    "ExecuteTime": {
     "end_time": "2020-11-08T09:33:39.847362Z",
     "start_time": "2020-11-08T08:42:49.926923Z"
    },
    "run_control": {
     "marked": true
    }
   },
   "outputs": [
    {
     "name": "stdout",
     "output_type": "stream",
     "text": [
      "\n",
      "Perfomring Calculations for 10 atoms. This may take some time. .\n",
      "Number of atoms: 10\n",
      "Elapsed time to compute: 11.986224174499512 seconds\n",
      "Published Minimum: -28.422532\n",
      "The Calcluated Global Minimum is -28.42253189343715 after 1 attempts.\n",
      "\n",
      "Perfomring Calculations for 11 atoms. This may take some time. .\n",
      "Number of atoms: 11\n",
      "Elapsed time to compute: 14.995187997817993 seconds\n",
      "Published Minimum: -32.76597\n",
      "The Calcluated Global Minimum is -32.7659700899772 after 1 attempts.\n",
      "\n",
      "Perfomring Calculations for 12 atoms. This may take some time. ....\n",
      "Number of atoms: 12\n",
      "Elapsed time to compute: 75.32027053833008 seconds\n",
      "Published Minimum: -37.9676\n",
      "The Calcluated Global Minimum is -37.96759956236188 after 4 attempts.\n",
      "\n",
      "Perfomring Calculations for 13 atoms. This may take some time. .\n",
      "Number of atoms: 13\n",
      "Elapsed time to compute: 24.357971906661987 seconds\n",
      "Published Minimum: -44.326801\n",
      "The Calcluated Global Minimum is -44.32680141951834 after 1 attempts.\n",
      "\n",
      "Perfomring Calculations for 14 atoms. This may take some time. .\n",
      "Number of atoms: 14\n",
      "Elapsed time to compute: 36.298197507858276 seconds\n",
      "Published Minimum: -47.845157\n",
      "The Calcluated Global Minimum is -47.845156782590905 after 1 attempts.\n",
      "\n",
      "Perfomring Calculations for 15 atoms. This may take some time. ...........\n",
      "Number of atoms: 15\n",
      "Elapsed time to compute: 473.2439320087433 seconds\n",
      "Published Minimum: -52.322627\n",
      "The Calcluated Global Minimum is -44.326801443851785 after 11 attempts.\n",
      "\n",
      "Perfomring Calculations for 16 atoms. This may take some time. ..\n",
      "Number of atoms: 16\n",
      "Elapsed time to compute: 130.0575988292694 seconds\n",
      "Published Minimum: -56.815742\n",
      "The Calcluated Global Minimum is -56.81574178042273 after 2 attempts.\n",
      "\n",
      "Perfomring Calculations for 17 atoms. This may take some time. ...\n",
      "Number of atoms: 17\n",
      "Elapsed time to compute: 220.92398810386658 seconds\n",
      "Published Minimum: -61.317995\n",
      "The Calcluated Global Minimum is -61.317994660105846 after 3 attempts.\n",
      "\n",
      "Perfomring Calculations for 18 atoms. This may take some time. .."
     ]
    },
    {
     "name": "stderr",
     "output_type": "stream",
     "text": [
      "C:\\Users\\ras42\\anaconda3\\lib\\site-packages\\scipy\\optimize\\optimize.py:1166: RuntimeWarning: divide by zero encountered in double_scalars\n",
      "  rhok = 1.0 / (np.dot(yk, sk))\n"
     ]
    },
    {
     "name": "stdout",
     "output_type": "stream",
     "text": [
      ".."
     ]
    },
    {
     "name": "stderr",
     "output_type": "stream",
     "text": [
      "C:\\Users\\ras42\\anaconda3\\lib\\site-packages\\scipy\\optimize\\optimize.py:1166: RuntimeWarning: divide by zero encountered in double_scalars\n",
      "  rhok = 1.0 / (np.dot(yk, sk))\n"
     ]
    },
    {
     "name": "stdout",
     "output_type": "stream",
     "text": [
      "..\n",
      "Number of atoms: 18\n",
      "Elapsed time to compute: 520.852988243103 seconds\n",
      "Published Minimum: -66.530949\n",
      "The Calcluated Global Minimum is -66.53094946313719 after 6 attempts.\n",
      "\n",
      "Perfomring Calculations for 19 atoms. This may take some time. ..\n",
      "Number of atoms: 19\n",
      "Elapsed time to compute: 225.69825720787048 seconds\n",
      "Published Minimum: -72.659782\n",
      "The Calcluated Global Minimum is -72.65978245438458 after 2 attempts.\n",
      "\n",
      "Perfomring Calculations for 20 atoms. This may take some time. ...........\n",
      "Number of atoms: 20\n",
      "Elapsed time to compute: 1316.1495397090912 seconds\n",
      "Published Minimum: -77.177043\n",
      "The Calcluated Global Minimum is -55.942673952507214 after 11 attempts.\n"
     ]
    }
   ],
   "source": [
    "for atoms in N_atom:\n",
    "    \n",
    "    pos = init_pos(atoms)\n",
    "    published_energy = energies[atoms]\n",
    "    count = 1\n",
    "\n",
    "    t=time()\n",
    "    print('\\nPerfomring Calculations for', atoms, 'atoms. This may take some time.', '.', end ='')\n",
    "    res = basinhopping(total_energy, pos, niter=50, T=2.25, stepsize=3.0, disp=False)\n",
    "    \n",
    "    while round(res.fun, ndigits=6) > published_energy and count <=10:\n",
    "        print( '.', end ='' )\n",
    "        res = res = basinhopping(total_energy, pos, niter=50, T=2.25+0.1*count, stepsize=3.0, disp=False)\n",
    "        count += 1\n",
    "\n",
    "    elapsed = time()-t\n",
    "    \n",
    "    print('\\nNumber of atoms:', atoms)\n",
    "    print('Elapsed time to compute:', elapsed, 'seconds')\n",
    "    print('Published Minimum:', published_energy)\n",
    "    print('The Calcluated Global Minimum is', res.fun, 'after', count, 'attempts.')"
   ]
  },
  {
   "cell_type": "code",
   "execution_count": 26,
   "metadata": {
    "ExecuteTime": {
     "end_time": "2020-11-08T09:36:32.674600Z",
     "start_time": "2020-11-08T09:35:45.551101Z"
    }
   },
   "outputs": [
    {
     "name": "stdout",
     "output_type": "stream",
     "text": [
      "\n",
      "Perfomring Calculations for 15 atoms. This may take some time. .\n",
      "Number of atoms: 15\n",
      "Elapsed time to compute: 47.10938620567322 seconds\n",
      "Published Minimum: -52.322627\n",
      "The Calcluated Global Minimum is -52.32262726182402 after 1 attempts.\n"
     ]
    }
   ],
   "source": [
    "\n",
    "atoms = 15\n",
    "\n",
    "    \n",
    "pos = init_pos(atoms)\n",
    "published_energy = energies[atoms]\n",
    "count = 1\n",
    "\n",
    "t=time()\n",
    "print('\\nPerfomring Calculations for', atoms, 'atoms. This may take some time.', '.', end ='')\n",
    "res = basinhopping(total_energy, pos, niter=50, T=2.0, stepsize=3.0, disp=False)\n",
    "\n",
    "while round(res.fun, ndigits=6) > published_energy and count <=20:\n",
    "    count += 1\n",
    "    print( '.', end ='' )\n",
    "    res = res = basinhopping(total_energy, pos, niter=50, T=2.0+0.05*count, stepsize=3.0, disp=False)\n",
    "    \n",
    "\n",
    "elapsed = time()-t\n",
    "\n",
    "print('\\nNumber of atoms:', atoms)\n",
    "print('Elapsed time to compute:', elapsed, 'seconds')\n",
    "print('Published Minimum:', published_energy)\n",
    "print('The Calcluated Global Minimum is', res.fun, 'after', count, 'attempts.')"
   ]
  },
  {
   "cell_type": "code",
   "execution_count": 27,
   "metadata": {
    "ExecuteTime": {
     "end_time": "2020-11-08T09:40:58.068045Z",
     "start_time": "2020-11-08T09:36:43.907692Z"
    },
    "scrolled": true
   },
   "outputs": [
    {
     "name": "stdout",
     "output_type": "stream",
     "text": [
      "\n",
      "Perfomring Calculations for 20 atoms. This may take some time. ..\n",
      "Number of atoms: 20\n",
      "Elapsed time to compute: 254.1498293876648 seconds\n",
      "Published Minimum: -77.177043\n",
      "The Calcluated Global Minimum is -77.17704256829023 after 2 attempts.\n"
     ]
    }
   ],
   "source": [
    "atoms = 20\n",
    "\n",
    "pos = init_pos(atoms)\n",
    "published_energy = energies[atoms]\n",
    "count = 1\n",
    "\n",
    "t=time()\n",
    "print('\\nPerfomring Calculations for', atoms, 'atoms. This may take some time.', '.', end ='')\n",
    "res = basinhopping(total_energy, pos, niter=50, T=2.0, stepsize=3.0, disp=False)\n",
    "\n",
    "while round(res.fun, ndigits=6) > published_energy and count <=20:\n",
    "    count += 1\n",
    "    print( '.', end ='' )\n",
    "    res = res = basinhopping(total_energy, pos, niter=50, T=2.0+(10/atoms)*count, stepsize=3.0, disp=False)\n",
    "    \n",
    "\n",
    "elapsed = time()-t\n",
    "\n",
    "print('\\nNumber of atoms:', atoms)\n",
    "print('Elapsed time to compute:', elapsed, 'seconds')\n",
    "print('Published Minimum:', published_energy)\n",
    "print('The Calcluated Global Minimum is', res.fun, 'after', count, 'attempts.')"
   ]
  },
  {
   "cell_type": "code",
   "execution_count": 28,
   "metadata": {
    "ExecuteTime": {
     "end_time": "2020-11-08T09:42:12.073756Z",
     "start_time": "2020-11-08T09:42:12.048071Z"
    }
   },
   "outputs": [],
   "source": [
    "@jit\n",
    "def neighbor(pos_now, kT):\n",
    "    N = len(pos_now)\n",
    "    return pos_now + kT*np.random.random_sample((N,))\n",
    "@jit\n",
    "def acceptance_probability(dE, kT):\n",
    "    if dE<0:\n",
    "        return 1\n",
    "    else:\n",
    "        return np.exp(-dE/kT)\n"
   ]
  },
  {
   "cell_type": "code",
   "execution_count": 32,
   "metadata": {
    "ExecuteTime": {
     "end_time": "2020-11-08T10:35:41.561150Z",
     "start_time": "2020-11-08T10:35:08.455941Z"
    }
   },
   "outputs": [
    {
     "name": "stdout",
     "output_type": "stream",
     "text": [
      "accept new energy:  -25.443356139067035  acceptance ratio:  0.5848808655713732\n",
      "accept new energy:  -25.288749115416294  acceptance ratio:  0.932136589440308\n",
      "accept new energy:  -23.19774768142388  acceptance ratio:  0.3865650200578784\n",
      "accept new energy:  -22.081596113223924  acceptance ratio:  0.6020940468274946\n",
      "accept new energy:  -23.105797367751812  acceptance ratio:  1.0\n",
      "accept new energy:  -23.150227968426833  acceptance ratio:  1.0\n",
      "accept new energy:  -22.0817726704699  acceptance ratio:  0.6152900483194087\n",
      "accept new energy:  -26.521741590858408  acceptance ratio:  1.0\n",
      "accept new energy:  -25.443356094914375  acceptance ratio:  0.6125190558660896\n",
      "accept new energy:  -23.105561179967914  acceptance ratio:  0.3455444284645635\n",
      "accept new energy:  -23.149859004373948  acceptance ratio:  1.0\n",
      "accept new energy:  -23.105466999810712  acceptance ratio:  0.9800240332513246\n",
      "accept new energy:  -23.043954163795892  acceptance ratio:  0.9724268935849993\n",
      "accept new energy:  -22.03231177373541  acceptance ratio:  0.6313862689866445\n",
      "accept new energy:  -23.10556256867497  acceptance ratio:  1.0\n",
      "accept new energy:  -23.197483320124746  acceptance ratio:  1.0\n",
      "accept new energy:  -27.47973888428943  acceptance ratio:  1.0\n",
      "accept new energy:  -25.50400780756453  acceptance ratio:  0.4073593414149382\n",
      "accept new energy:  -28.422531863334655  acceptance ratio:  1.0\n",
      "accept new energy:  -26.483909007251828  acceptance ratio:  0.4142886991225064\n",
      "accept new energy:  -26.418356070738284  acceptance ratio:  0.9706427584795004\n",
      "accept new energy:  -26.442884965988455  acceptance ratio:  1.0\n",
      "accept new energy:  -22.081463402438185  acceptance ratio:  0.13772940569421016\n",
      "accept new energy:  -22.08170303590977  acceptance ratio:  1.0\n",
      "accept new energy:  -23.149404550645773  acceptance ratio:  1.0\n",
      "accept new energy:  -22.18629161378827  acceptance ratio:  0.6454686688571588\n",
      "accept new energy:  -23.10506029525231  acceptance ratio:  1.0\n",
      "accept new energy:  -22.031566605879938  acceptance ratio:  0.6138825369796292\n",
      "accept new energy:  -22.031534817169337  acceptance ratio:  0.9999855506904829\n",
      "accept new energy:  -22.166003033939504  acceptance ratio:  1.0\n",
      "accept new energy:  -23.14936336296141  acceptance ratio:  1.0\n",
      "accept new energy:  -22.081344178093776  acceptance ratio:  0.6154120313385474\n",
      "accept new energy:  -23.149350390578743  acceptance ratio:  1.0\n"
     ]
    },
    {
     "data": {
      "text/plain": [
       "(array([20.71172131, 23.83205166, 26.9868985 , 18.76131226, 23.32745821,\n",
       "        17.57842781, 21.73156091, 21.06985915, 25.38341752, 20.75582655,\n",
       "        26.17274069, 17.53333401, 21.86024936, 23.44733905, 23.62807797,\n",
       "        20.70012429, 22.9979382 , 19.18895065, 23.34811781, 27.20101879,\n",
       "        22.67711054, 26.22177253, 21.47168489, 23.00570568, 26.36002196,\n",
       "        20.61468004, 17.70880119, 24.9701172 , 23.23046147, 20.15209601]),\n",
       " -28.422531863334655,\n",
       " 19)"
      ]
     },
     "execution_count": 32,
     "metadata": {},
     "output_type": "execute_result"
    }
   ],
   "source": [
    "jit(forceobj=True)\n",
    "def simulated_annealling_v2(N_atom=8, Max_iteration=10, kT=0.05):\n",
    "    pos_now = init_pos(N_atom)\n",
    "    # -------------Complete your code here -----------\n",
    "    res = minimize(total_energy, pos_now, method='CG', tol=1e-3)        \n",
    "    obj_now = res.fun\n",
    "    # -------------Complete your code here -----------\n",
    "    accept_count = 0\n",
    "    energies =[]\n",
    "    final_pos =[]\n",
    "    final_count = 0\n",
    "    for i in range(Max_iteration):\n",
    "        pos_new = neighbor(pos_now, kT)\n",
    "        # -------------Complete your code here -----------\n",
    "        res = minimize(total_energy, pos_new, method='CG', tol=1e-3)        \n",
    "        obj_new = res.fun\n",
    "        # -------------Complete your code here -----------\n",
    "        ap = acceptance_probability(obj_new-obj_now, kT)\n",
    "        if ap > np.random.random():\n",
    "            print('accept new energy: ', obj_new, ' acceptance ratio: ', ap)\n",
    "            obj_now = obj_new\n",
    "            pos_now = pos_new\n",
    "            accept_count += 1\n",
    "            energies.append(obj_now)\n",
    "            if obj_now == min(energies):\n",
    "                final_pos = pos_now\n",
    "                final_count=accept_count\n",
    "    return final_pos, min(energies), final_count\n",
    "\n",
    "simulated_annealling_v2(N_atom=10, Max_iteration=70, kT=2.2)"
   ]
  },
  {
   "cell_type": "code",
   "execution_count": 7,
   "metadata": {
    "ExecuteTime": {
     "end_time": "2020-11-08T07:59:19.542696Z",
     "start_time": "2020-11-08T07:59:19.529615Z"
    },
    "run_control": {
     "marked": true
    }
   },
   "outputs": [
    {
     "name": "stdout",
     "output_type": "stream",
     "text": [
      "Help on function basinhopping in module scipy.optimize._basinhopping:\n",
      "\n",
      "basinhopping(func, x0, niter=100, T=1.0, stepsize=0.5, minimizer_kwargs=None, take_step=None, accept_test=None, callback=None, interval=50, disp=False, niter_success=None, seed=None)\n",
      "    Find the global minimum of a function using the basin-hopping algorithm\n",
      "    \n",
      "    Basin-hopping is a two-phase method that combines a global stepping\n",
      "    algorithm with local minimization at each step. Designed to mimic\n",
      "    the natural process of energy minimization of clusters of atoms, it works\n",
      "    well for similar problems with \"funnel-like, but rugged\" energy landscapes\n",
      "    [5]_.\n",
      "    \n",
      "    As the step-taking, step acceptance, and minimization methods are all\n",
      "    customizable, this function can also be used to implement other two-phase\n",
      "    methods.\n",
      "    \n",
      "    Parameters\n",
      "    ----------\n",
      "    func : callable ``f(x, *args)``\n",
      "        Function to be optimized.  ``args`` can be passed as an optional item\n",
      "        in the dict ``minimizer_kwargs``\n",
      "    x0 : array_like\n",
      "        Initial guess.\n",
      "    niter : integer, optional\n",
      "        The number of basin-hopping iterations\n",
      "    T : float, optional\n",
      "        The \"temperature\" parameter for the accept or reject criterion. Higher\n",
      "        \"temperatures\" mean that larger jumps in function value will be\n",
      "        accepted.  For best results ``T`` should be comparable to the\n",
      "        separation (in function value) between local minima.\n",
      "    stepsize : float, optional\n",
      "        Maximum step size for use in the random displacement.\n",
      "    minimizer_kwargs : dict, optional\n",
      "        Extra keyword arguments to be passed to the local minimizer\n",
      "        ``scipy.optimize.minimize()`` Some important options could be:\n",
      "    \n",
      "            method : str\n",
      "                The minimization method (e.g. ``\"L-BFGS-B\"``)\n",
      "            args : tuple\n",
      "                Extra arguments passed to the objective function (``func``) and\n",
      "                its derivatives (Jacobian, Hessian).\n",
      "    \n",
      "    take_step : callable ``take_step(x)``, optional\n",
      "        Replace the default step-taking routine with this routine. The default\n",
      "        step-taking routine is a random displacement of the coordinates, but\n",
      "        other step-taking algorithms may be better for some systems.\n",
      "        ``take_step`` can optionally have the attribute ``take_step.stepsize``.\n",
      "        If this attribute exists, then ``basinhopping`` will adjust\n",
      "        ``take_step.stepsize`` in order to try to optimize the global minimum\n",
      "        search.\n",
      "    accept_test : callable, ``accept_test(f_new=f_new, x_new=x_new, f_old=fold, x_old=x_old)``, optional\n",
      "        Define a test which will be used to judge whether or not to accept the\n",
      "        step.  This will be used in addition to the Metropolis test based on\n",
      "        \"temperature\" ``T``.  The acceptable return values are True,\n",
      "        False, or ``\"force accept\"``. If any of the tests return False\n",
      "        then the step is rejected. If the latter, then this will override any\n",
      "        other tests in order to accept the step. This can be used, for example,\n",
      "        to forcefully escape from a local minimum that ``basinhopping`` is\n",
      "        trapped in.\n",
      "    callback : callable, ``callback(x, f, accept)``, optional\n",
      "        A callback function which will be called for all minima found. ``x``\n",
      "        and ``f`` are the coordinates and function value of the trial minimum,\n",
      "        and ``accept`` is whether or not that minimum was accepted. This can\n",
      "        be used, for example, to save the lowest N minima found. Also,\n",
      "        ``callback`` can be used to specify a user defined stop criterion by\n",
      "        optionally returning True to stop the ``basinhopping`` routine.\n",
      "    interval : integer, optional\n",
      "        interval for how often to update the ``stepsize``\n",
      "    disp : bool, optional\n",
      "        Set to True to print status messages\n",
      "    niter_success : integer, optional\n",
      "        Stop the run if the global minimum candidate remains the same for this\n",
      "        number of iterations.\n",
      "    seed : {int, `~np.random.RandomState`, `~np.random.Generator`}, optional\n",
      "        If `seed` is not specified the `~np.random.RandomState` singleton is\n",
      "        used.\n",
      "        If `seed` is an int, a new ``RandomState`` instance is used, seeded\n",
      "        with seed.\n",
      "        If `seed` is already a ``RandomState`` or ``Generator`` instance, then\n",
      "        that object is used.\n",
      "        Specify `seed` for repeatable minimizations. The random numbers\n",
      "        generated with this seed only affect the default Metropolis\n",
      "        `accept_test` and the default `take_step`. If you supply your own\n",
      "        `take_step` and `accept_test`, and these functions use random\n",
      "        number generation, then those functions are responsible for the state\n",
      "        of their random number generator.\n",
      "    \n",
      "    Returns\n",
      "    -------\n",
      "    res : OptimizeResult\n",
      "        The optimization result represented as a ``OptimizeResult`` object.\n",
      "        Important attributes are: ``x`` the solution array, ``fun`` the value\n",
      "        of the function at the solution, and ``message`` which describes the\n",
      "        cause of the termination. The ``OptimizeResult`` object returned by the\n",
      "        selected minimizer at the lowest minimum is also contained within this\n",
      "        object and can be accessed through the ``lowest_optimization_result``\n",
      "        attribute.  See `OptimizeResult` for a description of other attributes.\n",
      "    \n",
      "    See Also\n",
      "    --------\n",
      "    minimize :\n",
      "        The local minimization function called once for each basinhopping step.\n",
      "        ``minimizer_kwargs`` is passed to this routine.\n",
      "    \n",
      "    Notes\n",
      "    -----\n",
      "    Basin-hopping is a stochastic algorithm which attempts to find the global\n",
      "    minimum of a smooth scalar function of one or more variables [1]_ [2]_ [3]_\n",
      "    [4]_. The algorithm in its current form was described by David Wales and\n",
      "    Jonathan Doye [2]_ http://www-wales.ch.cam.ac.uk/.\n",
      "    \n",
      "    The algorithm is iterative with each cycle composed of the following\n",
      "    features\n",
      "    \n",
      "    1) random perturbation of the coordinates\n",
      "    \n",
      "    2) local minimization\n",
      "    \n",
      "    3) accept or reject the new coordinates based on the minimized function\n",
      "       value\n",
      "    \n",
      "    The acceptance test used here is the Metropolis criterion of standard Monte\n",
      "    Carlo algorithms, although there are many other possibilities [3]_.\n",
      "    \n",
      "    This global minimization method has been shown to be extremely efficient\n",
      "    for a wide variety of problems in physics and chemistry. It is\n",
      "    particularly useful when the function has many minima separated by large\n",
      "    barriers. See the Cambridge Cluster Database\n",
      "    http://www-wales.ch.cam.ac.uk/CCD.html for databases of molecular systems\n",
      "    that have been optimized primarily using basin-hopping. This database\n",
      "    includes minimization problems exceeding 300 degrees of freedom.\n",
      "    \n",
      "    See the free software program GMIN (http://www-wales.ch.cam.ac.uk/GMIN) for\n",
      "    a Fortran implementation of basin-hopping. This implementation has many\n",
      "    different variations of the procedure described above, including more\n",
      "    advanced step taking algorithms and alternate acceptance criterion.\n",
      "    \n",
      "    For stochastic global optimization there is no way to determine if the true\n",
      "    global minimum has actually been found. Instead, as a consistency check,\n",
      "    the algorithm can be run from a number of different random starting points\n",
      "    to ensure the lowest minimum found in each example has converged to the\n",
      "    global minimum. For this reason, ``basinhopping`` will by default simply\n",
      "    run for the number of iterations ``niter`` and return the lowest minimum\n",
      "    found. It is left to the user to ensure that this is in fact the global\n",
      "    minimum.\n",
      "    \n",
      "    Choosing ``stepsize``:  This is a crucial parameter in ``basinhopping`` and\n",
      "    depends on the problem being solved. The step is chosen uniformly in the\n",
      "    region from x0-stepsize to x0+stepsize, in each dimension. Ideally, it\n",
      "    should be comparable to the typical separation (in argument values) between\n",
      "    local minima of the function being optimized. ``basinhopping`` will, by\n",
      "    default, adjust ``stepsize`` to find an optimal value, but this may take\n",
      "    many iterations. You will get quicker results if you set a sensible\n",
      "    initial value for ``stepsize``.\n",
      "    \n",
      "    Choosing ``T``: The parameter ``T`` is the \"temperature\" used in the\n",
      "    Metropolis criterion. Basinhopping steps are always accepted if\n",
      "    ``func(xnew) < func(xold)``. Otherwise, they are accepted with\n",
      "    probability::\n",
      "    \n",
      "        exp( -(func(xnew) - func(xold)) / T )\n",
      "    \n",
      "    So, for best results, ``T`` should to be comparable to the typical\n",
      "    difference (in function values) between local minima. (The height of\n",
      "    \"walls\" between local minima is irrelevant.)\n",
      "    \n",
      "    If ``T`` is 0, the algorithm becomes Monotonic Basin-Hopping, in which all\n",
      "    steps that increase energy are rejected.\n",
      "    \n",
      "    .. versionadded:: 0.12.0\n",
      "    \n",
      "    References\n",
      "    ----------\n",
      "    .. [1] Wales, David J. 2003, Energy Landscapes, Cambridge University Press,\n",
      "        Cambridge, UK.\n",
      "    .. [2] Wales, D J, and Doye J P K, Global Optimization by Basin-Hopping and\n",
      "        the Lowest Energy Structures of Lennard-Jones Clusters Containing up to\n",
      "        110 Atoms.  Journal of Physical Chemistry A, 1997, 101, 5111.\n",
      "    .. [3] Li, Z. and Scheraga, H. A., Monte Carlo-minimization approach to the\n",
      "        multiple-minima problem in protein folding, Proc. Natl. Acad. Sci. USA,\n",
      "        1987, 84, 6611.\n",
      "    .. [4] Wales, D. J. and Scheraga, H. A., Global optimization of clusters,\n",
      "        crystals, and biomolecules, Science, 1999, 285, 1368.\n",
      "    .. [5] Olson, B., Hashmi, I., Molloy, K., and Shehu1, A., Basin Hopping as\n",
      "        a General and Versatile Optimization Framework for the Characterization\n",
      "        of Biological Macromolecules, Advances in Artificial Intelligence,\n",
      "        Volume 2012 (2012), Article ID 674832, :doi:`10.1155/2012/674832`\n",
      "    \n",
      "    Examples\n",
      "    --------\n",
      "    The following example is a 1-D minimization problem, with many\n",
      "    local minima superimposed on a parabola.\n",
      "    \n",
      "    >>> from scipy.optimize import basinhopping\n",
      "    >>> func = lambda x: np.cos(14.5 * x - 0.3) + (x + 0.2) * x\n",
      "    >>> x0=[1.]\n",
      "    \n",
      "    Basinhopping, internally, uses a local minimization algorithm. We will use\n",
      "    the parameter ``minimizer_kwargs`` to tell basinhopping which algorithm to\n",
      "    use and how to set up that minimizer. This parameter will be passed to\n",
      "    ``scipy.optimize.minimize()``.\n",
      "    \n",
      "    >>> minimizer_kwargs = {\"method\": \"BFGS\"}\n",
      "    >>> ret = basinhopping(func, x0, minimizer_kwargs=minimizer_kwargs,\n",
      "    ...                    niter=200)\n",
      "    >>> print(\"global minimum: x = %.4f, f(x0) = %.4f\" % (ret.x, ret.fun))\n",
      "    global minimum: x = -0.1951, f(x0) = -1.0009\n",
      "    \n",
      "    Next consider a 2-D minimization problem. Also, this time, we\n",
      "    will use gradient information to significantly speed up the search.\n",
      "    \n",
      "    >>> def func2d(x):\n",
      "    ...     f = np.cos(14.5 * x[0] - 0.3) + (x[1] + 0.2) * x[1] + (x[0] +\n",
      "    ...                                                            0.2) * x[0]\n",
      "    ...     df = np.zeros(2)\n",
      "    ...     df[0] = -14.5 * np.sin(14.5 * x[0] - 0.3) + 2. * x[0] + 0.2\n",
      "    ...     df[1] = 2. * x[1] + 0.2\n",
      "    ...     return f, df\n",
      "    \n",
      "    We'll also use a different local minimization algorithm. Also, we must tell\n",
      "    the minimizer that our function returns both energy and gradient (Jacobian).\n",
      "    \n",
      "    >>> minimizer_kwargs = {\"method\":\"L-BFGS-B\", \"jac\":True}\n",
      "    >>> x0 = [1.0, 1.0]\n",
      "    >>> ret = basinhopping(func2d, x0, minimizer_kwargs=minimizer_kwargs,\n",
      "    ...                    niter=200)\n",
      "    >>> print(\"global minimum: x = [%.4f, %.4f], f(x0) = %.4f\" % (ret.x[0],\n",
      "    ...                                                           ret.x[1],\n",
      "    ...                                                           ret.fun))\n",
      "    global minimum: x = [-0.1951, -0.1000], f(x0) = -1.0109\n",
      "    \n",
      "    \n",
      "    Here is an example using a custom step-taking routine. Imagine you want\n",
      "    the first coordinate to take larger steps than the rest of the coordinates.\n",
      "    This can be implemented like so:\n",
      "    \n",
      "    >>> class MyTakeStep(object):\n",
      "    ...    def __init__(self, stepsize=0.5):\n",
      "    ...        self.stepsize = stepsize\n",
      "    ...    def __call__(self, x):\n",
      "    ...        s = self.stepsize\n",
      "    ...        x[0] += np.random.uniform(-2.*s, 2.*s)\n",
      "    ...        x[1:] += np.random.uniform(-s, s, x[1:].shape)\n",
      "    ...        return x\n",
      "    \n",
      "    Since ``MyTakeStep.stepsize`` exists basinhopping will adjust the magnitude\n",
      "    of ``stepsize`` to optimize the search. We'll use the same 2-D function as\n",
      "    before\n",
      "    \n",
      "    >>> mytakestep = MyTakeStep()\n",
      "    >>> ret = basinhopping(func2d, x0, minimizer_kwargs=minimizer_kwargs,\n",
      "    ...                    niter=200, take_step=mytakestep)\n",
      "    >>> print(\"global minimum: x = [%.4f, %.4f], f(x0) = %.4f\" % (ret.x[0],\n",
      "    ...                                                           ret.x[1],\n",
      "    ...                                                           ret.fun))\n",
      "    global minimum: x = [-0.1951, -0.1000], f(x0) = -1.0109\n",
      "    \n",
      "    \n",
      "    Now, let's do an example using a custom callback function which prints the\n",
      "    value of every minimum found\n",
      "    \n",
      "    >>> def print_fun(x, f, accepted):\n",
      "    ...         print(\"at minimum %.4f accepted %d\" % (f, int(accepted)))\n",
      "    \n",
      "    We'll run it for only 10 basinhopping steps this time.\n",
      "    \n",
      "    >>> np.random.seed(1)\n",
      "    >>> ret = basinhopping(func2d, x0, minimizer_kwargs=minimizer_kwargs,\n",
      "    ...                    niter=10, callback=print_fun)\n",
      "    at minimum 0.4159 accepted 1\n",
      "    at minimum -0.9073 accepted 1\n",
      "    at minimum -0.1021 accepted 1\n",
      "    at minimum -0.1021 accepted 1\n",
      "    at minimum 0.9102 accepted 1\n",
      "    at minimum 0.9102 accepted 1\n",
      "    at minimum 2.2945 accepted 0\n",
      "    at minimum -0.1021 accepted 1\n",
      "    at minimum -1.0109 accepted 1\n",
      "    at minimum -1.0109 accepted 1\n",
      "    \n",
      "    \n",
      "    The minimum at -1.0109 is actually the global minimum, found already on the\n",
      "    8th iteration.\n",
      "    \n",
      "    Now let's implement bounds on the problem using a custom ``accept_test``:\n",
      "    \n",
      "    >>> class MyBounds(object):\n",
      "    ...     def __init__(self, xmax=[1.1,1.1], xmin=[-1.1,-1.1] ):\n",
      "    ...         self.xmax = np.array(xmax)\n",
      "    ...         self.xmin = np.array(xmin)\n",
      "    ...     def __call__(self, **kwargs):\n",
      "    ...         x = kwargs[\"x_new\"]\n",
      "    ...         tmax = bool(np.all(x <= self.xmax))\n",
      "    ...         tmin = bool(np.all(x >= self.xmin))\n",
      "    ...         return tmax and tmin\n",
      "    \n",
      "    >>> mybounds = MyBounds()\n",
      "    >>> ret = basinhopping(func2d, x0, minimizer_kwargs=minimizer_kwargs,\n",
      "    ...                    niter=10, accept_test=mybounds)\n",
      "\n"
     ]
    }
   ],
   "source": [
    "help(sp.optimize.basinhopping)"
   ]
  },
  {
   "cell_type": "markdown",
   "metadata": {
    "run_control": {
     "marked": true
    }
   },
   "source": [
    "#### References\n",
    "\n",
    "- [Basin-hopping paper](http://www-wales.ch.cam.ac.uk/pdf/JPCA.101.5111.1997.pdf)"
   ]
  }
 ],
 "metadata": {
  "kernelspec": {
   "display_name": "Python 3",
   "language": "python",
   "name": "python3"
  },
  "language_info": {
   "codemirror_mode": {
    "name": "ipython",
    "version": 3
   },
   "file_extension": ".py",
   "mimetype": "text/x-python",
   "name": "python",
   "nbconvert_exporter": "python",
   "pygments_lexer": "ipython3",
   "version": "3.8.5"
  },
  "latex_envs": {
   "LaTeX_envs_menu_present": true,
   "autoclose": false,
   "autocomplete": true,
   "bibliofile": "biblio.bib",
   "cite_by": "apalike",
   "current_citInitial": 1,
   "eqLabelWithNumbers": true,
   "eqNumInitial": 1,
   "hotkeys": {
    "equation": "Ctrl-E",
    "itemize": "Ctrl-I"
   },
   "labels_anchors": false,
   "latex_user_defs": false,
   "report_style_numbering": false,
   "user_envs_cfg": false
  },
  "varInspector": {
   "cols": {
    "lenName": 16,
    "lenType": 16,
    "lenVar": 40
   },
   "kernels_config": {
    "python": {
     "delete_cmd_postfix": "",
     "delete_cmd_prefix": "del ",
     "library": "var_list.py",
     "varRefreshCmd": "print(var_dic_list())"
    },
    "r": {
     "delete_cmd_postfix": ") ",
     "delete_cmd_prefix": "rm(",
     "library": "var_list.r",
     "varRefreshCmd": "cat(var_dic_list()) "
    }
   },
   "types_to_exclude": [
    "module",
    "function",
    "builtin_function_or_method",
    "instance",
    "_Feature"
   ],
   "window_display": false
  }
 },
 "nbformat": 4,
 "nbformat_minor": 4
}
