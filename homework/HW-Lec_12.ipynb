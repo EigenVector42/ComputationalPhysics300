{
 "cells": [
  {
   "cell_type": "markdown",
   "metadata": {},
   "source": [
    "## 12.4 Homework\n",
    "\n",
    "- 1. Calculate a value for the integral\n",
    "\n",
    "$$ I = \\int_0 ^1 \\frac{x^{-1/2}}{e^x + 1} dx $$\n",
    "\n",
    "using the importance sampling method with $w(x) = x^{-1/2}$, with 1,000,000 random points.\n",
    "\n",
    "- 2. Calculate a value for the integral\n",
    "\n",
    "$$ I = \\int_0 ^1 \\frac{x^{-1}}{e^x + 1} dx $$\n",
    "\n",
    "using the importance sampling method with $w(x) = 1/x$, with 1,000,000 random points."
   ]
  },
  {
   "cell_type": "markdown",
   "metadata": {},
   "source": [
    "#### Procedure\n",
    "\n",
    "In order to calculate it, we need to get the `tranformation` from uniform $x$ to weighted $x_i$.\n",
    "\n",
    "- Search for the weight founction $w(x)$\n",
    "- find the probability function $p(x)$ and then the cumulative distribution function $F(x)$\n",
    "- Inverse transform sampling to $F^{-1}(x)$\n",
    "- averge $f(x)/w(x)$ in the points generated from $F^{-1}(x)$"
   ]
  },
  {
   "cell_type": "code",
   "execution_count": 1,
   "metadata": {
    "ExecuteTime": {
     "end_time": "2020-10-12T08:58:36.567404Z",
     "start_time": "2020-10-12T08:58:35.854406Z"
    }
   },
   "outputs": [
    {
     "name": "stderr",
     "output_type": "stream",
     "text": [
      "<ipython-input-1-91a9154d693d>:26: RuntimeWarning: divide by zero encountered in power\n",
      "  f = lambda x: x**(-1/2)/(exp(x)+1)\n"
     ]
    },
    {
     "data": {
      "image/png": "[encoded data removed]",
      "text/plain": [
       "<Figure size 432x288 with 1 Axes>"
      ]
     },
     "metadata": {
      "needs_background": "dark"
     },
     "output_type": "display_data"
    }
   ],
   "source": [
    "%matplotlib inline\n",
    "#matplotlib notebook\n",
    "\n",
    "from mpl_toolkits.mplot3d import Axes3D\n",
    "import matplotlib.pyplot as plt\n",
    "import numpy as np\n",
    "import scipy as sp\n",
    "from numpy import exp, log, sqrt\n",
    "from random import random\n",
    "from scipy import integrate\n",
    "\n",
    "# Plot text color, uncomment 'black' for a light background\n",
    "COLOR = 'white'\n",
    "#COLOR = 'black'\n",
    "\n",
    "plt.rcParams['axes.facecolor']= '#373e4b'\n",
    "plt.rcParams['axes.labelcolor'] = COLOR\n",
    "#plt.rcParams['axes.prop_cycle'] = cycler(color='bgrcmyk')\n",
    "plt.rcParams['text.color'] = COLOR\n",
    "plt.rcParams['axes.labelcolor'] = COLOR\n",
    "plt.rcParams['xtick.color'] = COLOR\n",
    "plt.rcParams['ytick.color'] = COLOR\n",
    "\n",
    "\n",
    "p = lambda x: x**2\n",
    "f = lambda x: x**(-1/2)/(exp(x)+1)\n",
    "\n",
    "_x = np.linspace(0,10,100)\n",
    "_y=f(_x)\n",
    "#print(_y)\n",
    "plt.plot(_x,_y)\n",
    "plt.show()"
   ]
  },
  {
   "cell_type": "markdown",
   "metadata": {},
   "source": [
    "#### Procedure\n",
    "\n",
    "$$ w(x) = x^{-1/2} $$\n",
    "$$\\downarrow$$\n",
    "$$ p(x) = \\frac{w(x)}{\\int_a^b w(x)dx} $$\n",
    "$$\\downarrow$$\n",
    "$$ p(x) = \\frac{x^{-1/2}}{\\int_0^1 x^{-1/2}dx} = \\frac{x^{-1/2}}{2((1)^{1/2}-(0)^{1/2})} = \\frac{1}{2}x^{-1/2} $$\n",
    "$$\\downarrow$$\n",
    "$$ p(x) = \\frac{1}{2}x^{-1/2} $$\n",
    "$$$$ $$$$\n",
    "$$ z = \\int_0^{F^{-1}(z)} p(x')dx' $$\n",
    "$$\\downarrow$$\n",
    "$$ z = \\int_0^{F^{-1}(z)} \\frac{1}{2}(x')^{-1/2}dx' $$\n",
    "$$\\downarrow$$\n",
    "$$ z = \\frac{1}{2}(2*F^{-1}(z)^{1/2}-2*(0)^{1/2}) $$\n",
    "$$\\downarrow$$\n",
    "$$ z = F^{-1}(z)^{1/2} $$\n",
    "$$\\downarrow$$\n",
    "$$ F^{-1} = z^{2} $$\n"
   ]
  },
  {
   "cell_type": "code",
   "execution_count": 2,
   "metadata": {
    "ExecuteTime": {
     "end_time": "2020-10-12T08:58:36.583404Z",
     "start_time": "2020-10-12T08:58:36.569404Z"
    }
   },
   "outputs": [],
   "source": [
    "f = lambda x: x**(-1/2)/(exp(x)+1)\n",
    "w = lambda x: x**(-1/2)\n",
    "F_inv = lambda x: x*x\n",
    "\n",
    "\n",
    "def MC_I(func, weight, func_inv, lower_lim=0, upper_lim=1, N=100):\n",
    "    sums = 0\n",
    "    weight_solution = integrate.quad(weight, lower_lim, upper_lim)\n",
    "    for i in range(N):\n",
    "        x = random()\n",
    "        y = F_inv(x)\n",
    "        sums += func(y)/weight(y)\n",
    "    \n",
    "    integral_sol = (sums/N)*weight_solution[0]\n",
    "    return integral_sol"
   ]
  },
  {
   "cell_type": "code",
   "execution_count": 3,
   "metadata": {
    "ExecuteTime": {
     "end_time": "2020-10-12T08:58:38.595442Z",
     "start_time": "2020-10-12T08:58:36.585404Z"
    }
   },
   "outputs": [
    {
     "name": "stdout",
     "output_type": "stream",
     "text": [
      "Monte Carlo Importance Sampling Solution: 0.8388363856208704\n",
      "Scipy Quad Integration Solution: 0.8389329600133792\n"
     ]
    }
   ],
   "source": [
    "sp_quad_sol = integrate.quad(f,0,1)\n",
    "print(\"Monte Carlo Importance Sampling Solution:\", MC_I(f,w, F_inv, N=1000000))\n",
    "print(\"Scipy Quad Integration Solution:\",sp_quad_sol[0])"
   ]
  },
  {
   "cell_type": "code",
   "execution_count": 4,
   "metadata": {
    "ExecuteTime": {
     "end_time": "2020-10-12T08:58:38.627406Z",
     "start_time": "2020-10-12T08:58:38.597431Z"
    }
   },
   "outputs": [
    {
     "name": "stdout",
     "output_type": "stream",
     "text": [
      "(20.594976039904015, 4.675280186570254)\n",
      "(17.025943899665346, 3.5117649618631506e-10)\n",
      "(18.177236466242032, 0.005455939540208998)\n"
     ]
    },
    {
     "name": "stderr",
     "output_type": "stream",
     "text": [
      "<ipython-input-4-263f556be25b>:8: IntegrationWarning: The maximum number of subdivisions (50) has been achieved.\n",
      "  If increasing the limit yields no improvement it is advised to analyze \n",
      "  the integrand in order to determine the difficulties.  If the position of a \n",
      "  local difficulty can be determined (singularity, discontinuity) one will \n",
      "  probably gain from splitting up the interval and calling the integrator \n",
      "  on the subranges.  Perhaps a special-purpose integrator should be used.\n",
      "  f_2_sol = integrate.quad(f_2, lower, 1)\n",
      "<ipython-input-4-263f556be25b>:12: IntegrationWarning: The maximum number of subdivisions (50) has been achieved.\n",
      "  If increasing the limit yields no improvement it is advised to analyze \n",
      "  the integrand in order to determine the difficulties.  If the position of a \n",
      "  local difficulty can be determined (singularity, discontinuity) one will \n",
      "  probably gain from splitting up the interval and calling the integrator \n",
      "  on the subranges.  Perhaps a special-purpose integrator should be used.\n",
      "  f_2_sol_3 = integrate.quad(f_2, 0.0000000000000001, 1)\n"
     ]
    }
   ],
   "source": [
    "lower = 10**(-100)\n",
    "upper = 1\n",
    "f_2 = lambda x: (x**-1)/(exp(x)+1)\n",
    "w_2 = lambda x: 1/x\n",
    "F_inv_2 = lambda x: (10**-100)*exp(100*x*log(10))\n",
    "\n",
    " \n",
    "f_2_sol = integrate.quad(f_2, lower, 1)\n",
    "\n",
    "f_2_sol_2 = integrate.quad(f_2, 0.000000000000001, 1)\n",
    "\n",
    "f_2_sol_3 = integrate.quad(f_2, 0.0000000000000001, 1)\n",
    "\n",
    "print(f_2_sol)\n",
    "print(f_2_sol_2)\n",
    "print(f_2_sol_3)"
   ]
  },
  {
   "cell_type": "code",
   "execution_count": 5,
   "metadata": {
    "ExecuteTime": {
     "end_time": "2020-10-12T08:58:40.524405Z",
     "start_time": "2020-10-12T08:58:38.629419Z"
    }
   },
   "outputs": [
    {
     "name": "stderr",
     "output_type": "stream",
     "text": [
      "<ipython-input-2-b96e6b4af52c>:8: IntegrationWarning: The maximum number of subdivisions (50) has been achieved.\n",
      "  If increasing the limit yields no improvement it is advised to analyze \n",
      "  the integrand in order to determine the difficulties.  If the position of a \n",
      "  local difficulty can be determined (singularity, discontinuity) one will \n",
      "  probably gain from splitting up the interval and calling the integrator \n",
      "  on the subranges.  Perhaps a special-purpose integrator should be used.\n",
      "  weight_solution = integrate.quad(weight, lower_lim, upper_lim)\n"
     ]
    },
    {
     "name": "stdout",
     "output_type": "stream",
     "text": [
      "Monte Carlo Importance Sampling Solution: 17.481286504343657\n"
     ]
    }
   ],
   "source": [
    "f_2_MC_sol = MC_I(f_2, w_2, F_inv_2, lower_lim=lower, upper_lim=upper, N=1000000)\n",
    "\n",
    "print(\"Monte Carlo Importance Sampling Solution:\", f_2_MC_sol)"
   ]
  },
  {
   "cell_type": "code",
   "execution_count": null,
   "metadata": {},
   "outputs": [],
   "source": []
  }
 ],
 "metadata": {
  "kernelspec": {
   "display_name": "Python 3",
   "language": "python",
   "name": "python3"
  },
  "language_info": {
   "codemirror_mode": {
    "name": "ipython",
    "version": 3
   },
   "file_extension": ".py",
   "mimetype": "text/x-python",
   "name": "python",
   "nbconvert_exporter": "python",
   "pygments_lexer": "ipython3",
   "version": "3.8.3"
  },
  "varInspector": {
   "cols": {
    "lenName": 16,
    "lenType": 16,
    "lenVar": 40
   },
   "kernels_config": {
    "python": {
     "delete_cmd_postfix": "",
     "delete_cmd_prefix": "del ",
     "library": "var_list.py",
     "varRefreshCmd": "print(var_dic_list())"
    },
    "r": {
     "delete_cmd_postfix": ") ",
     "delete_cmd_prefix": "rm(",
     "library": "var_list.r",
     "varRefreshCmd": "cat(var_dic_list()) "
    }
   },
   "types_to_exclude": [
    "module",
    "function",
    "builtin_function_or_method",
    "instance",
    "_Feature"
   ],
   "window_display": false
  }
 },
 "nbformat": 4,
 "nbformat_minor": 4
}
