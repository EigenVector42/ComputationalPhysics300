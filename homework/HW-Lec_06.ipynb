{
 "cells": [
  {
   "cell_type": "code",
   "execution_count": 1,
   "metadata": {
    "ExecuteTime": {
     "end_time": "2020-09-21T07:37:28.005549Z",
     "start_time": "2020-09-21T07:37:27.533524Z"
    }
   },
   "outputs": [],
   "source": [
    "%matplotlib inline  \n",
    "\n",
    "import numpy as np\n",
    "from numpy import exp\n",
    "import scipy\n",
    "\n",
    "import matplotlib as mpl\n",
    "import matplotlib.pyplot as plt\n",
    "\n",
    "plt.rcParams[\"figure.figsize\"]=(7,7) #sets the default image size\n",
    "#plt.rcParams[\"figure.dpi\"]=(300)"
   ]
  },
  {
   "cell_type": "markdown",
   "metadata": {},
   "source": [
    "### 6.4.2 Heat capacity of a solid\n",
    "Debye's theory of solids gives the heat capacity of a solid at temperature $T$ to be\n",
    "\n",
    "$$C_V = 9V\\rho k_B (\\frac{T}{\\theta_D})^3 \\int_0^{\\theta_D/T} \\frac{x^4e^x}{(e^x-1)^2}dx$$\n",
    "\n",
    "where $V$ is the volume of the solid, $\\rho$ is the density of atoms, $k_B$ is Boltzmann constant, and $\\theta$ is the Debye temperature.\n",
    "\n",
    "- Write a program to calculate $C_V$ for a given value of $T$ for a sample of 1000 $cm^3$ of aluminum, in which the density $\\rho$ is 6.022 $\\times 10^{28} m^3$ and $\\theta_D$ = 428 K. \n",
    "\n",
    "- Choose at least one wa to do the integral from the followings\n",
    "     - Simpson or trapezoid rule by yourself\n",
    "     - one built-function from scipy\n",
    "\n",
    "- Plot $C_V$ as a function of temperature from $T$ = 5 K to $T$ = 500 K."
   ]
  },
  {
   "cell_type": "code",
   "execution_count": 2,
   "metadata": {
    "ExecuteTime": {
     "end_time": "2020-09-21T07:37:28.020516Z",
     "start_time": "2020-09-21T07:37:28.007539Z"
    }
   },
   "outputs": [],
   "source": [
    "def Debye(T,T_D,V,rho):\n",
    "    \n",
    "    kb = 1.381*10**(-23)\n",
    "    A = 9*V*rho*kb*((T/T_D)**3)\n",
    "    def Trapezoid(func, lower=0, upper=1, divs=20):\n",
    "    \n",
    "        # delta x\n",
    "        del_x = (upper - lower)/(divs)\n",
    "        # array of x=values from lower to upper, with divs+1 elements\n",
    "        x_values = np.linspace(lower, upper, divs +1)\n",
    "        y_values = np.zeros(divs+1)\n",
    "        # calculates the y-values\n",
    "        for i in range(divs+1):\n",
    "            if i==0 or i==divs:\n",
    "                y_values[i] = func(x_values[i])\n",
    "            else:\n",
    "                y_values[i] = 2*func(x_values[i])\n",
    "\n",
    "        area = del_x/2*np.sum(y_values)\n",
    "\n",
    "    #     print(\"x array\", x_values)\n",
    "    #     print(\"y array\", y_values)\n",
    "        return area\n",
    "    \n",
    "    f1 = lambda x: (x**4)*exp(x)\n",
    "    f2 = lambda x: (exp(x)-1)**2\n",
    "    Cv = lambda x: A*f1(x)/f2(x)\n",
    "    \n",
    "    # value close to zero, to prevent division by zero\n",
    "    lower_bound = 10**-15\n",
    "    \n",
    "    return Trapezoid(Cv,lower_bound,T_D/T,divs=100)"
   ]
  },
  {
   "cell_type": "code",
   "execution_count": 3,
   "metadata": {
    "ExecuteTime": {
     "end_time": "2020-09-21T07:37:28.697515Z",
     "start_time": "2020-09-21T07:37:28.023518Z"
    }
   },
   "outputs": [],
   "source": [
    "Temp_i = 5\n",
    "Temp_f=500\n",
    "Debye_temp = 428\n",
    "V = 10**-3\n",
    "rho = 6.022*10**28\n",
    "\n",
    "Temperature = np.linspace(Temp_i,Temp_f,1000)\n",
    "Cv = np.zeros(1000)\n",
    "for i in range(1000):\n",
    "    Cv[i]=Debye(Temperature[i],Debye_temp,V,rho)\n",
    "\n",
    "# print(Temperature)\n",
    "# print(Cv)"
   ]
  },
  {
   "cell_type": "code",
   "execution_count": 4,
   "metadata": {
    "ExecuteTime": {
     "end_time": "2020-09-21T07:37:28.847517Z",
     "start_time": "2020-09-21T07:37:28.699515Z"
    }
   },
   "outputs": [
    {
     "data": {
      "image/png": "[encoded data removed]",
      "text/plain": [
       "<Figure size 504x504 with 1 Axes>"
      ]
     },
     "metadata": {
      "needs_background": "dark"
     },
     "output_type": "display_data"
    }
   ],
   "source": [
    "# Plot text color, uncomment 'black' for a light background\n",
    "COLOR = 'white'\n",
    "# COLOR = 'black'\n",
    "\n",
    "plt.rcParams['text.color'] = COLOR\n",
    "plt.rcParams['axes.labelcolor'] = COLOR\n",
    "plt.rcParams['xtick.color'] = COLOR\n",
    "plt.rcParams['ytick.color'] = COLOR\n",
    "\n",
    "plt.plot(Temperature,Cv,'r')\n",
    "plt.xlabel('Temperature (K)')\n",
    "plt.ylabel('Heat Capacity of a Solid \\n(J / Kg K)')\n",
    "plt.grid(color='b', linestyle='-', linewidth=0.1)\n",
    "plt.axis(xmin=Temp_i,xmax=Temp_f,ymin=0)\n",
    "plt.show()"
   ]
  },
  {
   "cell_type": "code",
   "execution_count": null,
   "metadata": {},
   "outputs": [],
   "source": []
  }
 ],
 "metadata": {
  "kernelspec": {
   "display_name": "Python 3",
   "language": "python",
   "name": "python3"
  },
  "language_info": {
   "codemirror_mode": {
    "name": "ipython",
    "version": 3
   },
   "file_extension": ".py",
   "mimetype": "text/x-python",
   "name": "python",
   "nbconvert_exporter": "python",
   "pygments_lexer": "ipython3",
   "version": "3.8.3"
  },
  "varInspector": {
   "cols": {
    "lenName": 16,
    "lenType": 16,
    "lenVar": 40
   },
   "kernels_config": {
    "python": {
     "delete_cmd_postfix": "",
     "delete_cmd_prefix": "del ",
     "library": "var_list.py",
     "varRefreshCmd": "print(var_dic_list())"
    },
    "r": {
     "delete_cmd_postfix": ") ",
     "delete_cmd_prefix": "rm(",
     "library": "var_list.r",
     "varRefreshCmd": "cat(var_dic_list()) "
    }
   },
   "types_to_exclude": [
    "module",
    "function",
    "builtin_function_or_method",
    "instance",
    "_Feature"
   ],
   "window_display": false
  }
 },
 "nbformat": 4,
 "nbformat_minor": 4
}
