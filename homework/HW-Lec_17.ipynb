{
 "cells": [
  {
   "cell_type": "markdown",
   "metadata": {
    "deletable": false,
    "editable": false
   },
   "source": [
    "## Lecture 17 Homework\n",
    "\n",
    "Write a program to find the ground state of LJ potential for N=3 (assuming $\\epsilon$ = $\\sigma$ = 1)\n",
    "\n",
    "[Reference](http://doye.chem.ox.ac.uk/jon/structures/LJ/tables.150.html)\n"
   ]
  },
  {
   "cell_type": "code",
   "execution_count": 1,
   "metadata": {
    "ExecuteTime": {
     "end_time": "2020-11-02T13:04:02.810202Z",
     "start_time": "2020-11-02T13:04:01.716175Z"
    }
   },
   "outputs": [],
   "source": [
    "%matplotlib inline\n",
    "#matplotlib notebook\n",
    "\n",
    "\n",
    "import matplotlib.pyplot as plt\n",
    "import numpy as np\n",
    "import scipy as sp\n",
    "import pandas as pd\n",
    "import requests\n",
    "from scipy.optimize import minimize\n",
    "from time import time\n",
    "from pytictoc import TicToc\n",
    "\n",
    "\n",
    "# Plot text color, uncomment 'black' for a light background\n",
    "COLOR = 'white'\n",
    "#COLOR = 'black'\n",
    "\n",
    "plt.rcParams['axes.facecolor']= '#373e4b'\n",
    "plt.rcParams['axes.labelcolor'] = COLOR\n",
    "# plt.rcParams['axes.prop_cycle'] = cycler(color='bgrcmyk')\n",
    "plt.rcParams['text.color'] = COLOR\n",
    "plt.rcParams['axes.labelcolor'] = COLOR\n",
    "plt.rcParams['xtick.color'] = COLOR\n",
    "plt.rcParams['ytick.color'] = COLOR\n",
    "\n",
    "\n",
    "t = TicToc()"
   ]
  },
  {
   "cell_type": "code",
   "execution_count": 2,
   "metadata": {
    "ExecuteTime": {
     "end_time": "2020-11-02T13:04:04.434177Z",
     "start_time": "2020-11-02T13:04:02.812175Z"
    }
   },
   "outputs": [
    {
     "name": "stdout",
     "output_type": "stream",
     "text": [
      "Groundstate Potential for 3 atoms: -2.999999999999889\n"
     ]
    }
   ],
   "source": [
    "def LJ(r, sigma=1, epsilon=1):\n",
    "    return 4*epsilon*((sigma/r)**12-(sigma/r)**6)\n",
    "\n",
    "def LJ2(r, sigma=1, epsilon=1):\n",
    "    s6 = sigma**6\n",
    "    r6 = r**6\n",
    "    s12 = sigma**12\n",
    "    r12 = r**12\n",
    "    return 4*epsilon*(s12/r12 - s6/r6)\n",
    "\n",
    "r = np.linspace(1.0,3.0,10000000)\n",
    "\n",
    "energies = LJ(r)\n",
    "\n",
    "Energy = 3*min(energies)\n",
    "\n",
    "print('Groundstate Potential for 3 atoms:', Energy)"
   ]
  },
  {
   "cell_type": "code",
   "execution_count": 3,
   "metadata": {
    "ExecuteTime": {
     "end_time": "2020-11-02T13:04:05.965177Z",
     "start_time": "2020-11-02T13:04:04.436175Z"
    }
   },
   "outputs": [
    {
     "name": "stdout",
     "output_type": "stream",
     "text": [
      "Elapsed time is 1.515860 seconds.\n",
      "-2.999999999999889\n"
     ]
    }
   ],
   "source": [
    "t.tic()\n",
    "energies = LJ(r)\n",
    "\n",
    "Energy = 3*min(energies)\n",
    "t.toc()\n",
    "print(Energy)"
   ]
  },
  {
   "cell_type": "code",
   "execution_count": 4,
   "metadata": {
    "ExecuteTime": {
     "end_time": "2020-11-02T13:04:07.530228Z",
     "start_time": "2020-11-02T13:04:05.966175Z"
    }
   },
   "outputs": [
    {
     "name": "stdout",
     "output_type": "stream",
     "text": [
      "Elapsed time is 1.558310 seconds.\n",
      "-2.999999999999888\n"
     ]
    }
   ],
   "source": [
    "t.tic()\n",
    "energies = LJ2(r)\n",
    "\n",
    "Energy2 = 3*min(energies)\n",
    "t.toc()\n",
    "print(Energy2)"
   ]
  },
  {
   "cell_type": "code",
   "execution_count": 5,
   "metadata": {
    "ExecuteTime": {
     "end_time": "2020-11-02T13:04:07.546174Z",
     "start_time": "2020-11-02T13:04:07.531175Z"
    }
   },
   "outputs": [],
   "source": [
    "def total_energy(positions, display=False):\n",
    "    \"\"\"\n",
    "    Calculate the total energy\n",
    "    input:\n",
    "    positions: 3*N array which represents the atomic positions\n",
    "    output\n",
    "    E: the total energy\n",
    "    \"\"\"\n",
    "    E = 0\n",
    "    N_atom = int(len(positions)/3)\n",
    "\n",
    "    #positions = [x0, y0, z0, x1, y1, z1, .....  , xn, yn, zn]\n",
    "    for i in range(N_atom-1):\n",
    "        for j in range(i+1, N_atom):  \n",
    "            pos1 = positions[i*3:(i+1)*3]\n",
    "            pos2 = positions[j*3:(j+1)*3]\n",
    "            dist = np.linalg.norm(pos1-pos2)\n",
    "            if display:\n",
    "                print('pos1:  ', pos1)\n",
    "                print('pos2:  ', pos2)\n",
    "                print(i,j, dist)\n",
    "            E += LJ(dist)\n",
    "    return E\n",
    "            \n",
    "def init_pos(N, L=5):\n",
    "    return L*np.random.random_sample((N*3,))\n",
    "\n",
    "def LJ_Global_Min(N_atom=8,\n",
    "                  N_attempts=10, \n",
    "                  solver='CG', \n",
    "                  hist=False, \n",
    "                  details=False,\n",
    "                  Length=3,\n",
    "                  tolerance=0.01):\n",
    "\n",
    "    f_values = []\n",
    "    x_values = []\n",
    "    \n",
    "    #published values for 8, 10, & 13 atoms\n",
    "    LJN_Energy = {3: -3.000000,\n",
    "                  8: -19.821489,\n",
    "                  10: -28.422532,\n",
    "                  13: -44.326801}\n",
    "    \n",
    "\n",
    "    t = time() #timimg function\n",
    "    # calculates the mins\n",
    "    for i in range(N_attempts):\n",
    "        pos = init_pos(N_atom, L=Length)\n",
    "        res = minimize(total_energy, pos, method=solver, tol=1e-4)\n",
    "        f_values.append(res.fun)\n",
    "        x_values.append(res.x)\n",
    "        if i%10==0:\n",
    "            print('step: ', i, '  values:', res.fun)\n",
    "\n",
    "    global_min = min(f_values)\n",
    "\n",
    "    elapsed = time() - t\n",
    "\n",
    "    print('The global minimum:  ', global_min)\n",
    "    if N_atom in LJN_Energy: \n",
    "        print('Published Minimum:   ', LJN_Energy[N_atom])\n",
    "\n",
    "    global_min = min(f_values)\n",
    "\n",
    "    if details:\n",
    "        counter = 0\n",
    "\n",
    "        for n in f_values:\n",
    "            #print(n)\n",
    "            if abs(LJN_Energy[N_atom] - n) <= tolerance:\n",
    "                counter +=1\n",
    "                #print('counted')\n",
    "\n",
    "        stat = counter/len(f_values)*100\n",
    "        dis = 'The Global minimum is reached ' + str(stat) + '% out of ' + str(len(f_values)) +' attempts.'\n",
    "        # print(counter)\n",
    "        print(dis)\n",
    "        print('With an elapsed time of ', elapsed ,'seconds with solver', solver)\n",
    "    \n",
    "    if hist:\n",
    "        plt.title('LJ cluster:  '+ str(N_attempts)+ ' runs;  for N = ' + str(N_atom)+' atoms')\n",
    "        plt.hist(f_values,50)\n",
    "        plt.show()\n",
    "        \n",
    "    return global_min, elapsed\n",
    "\n"
   ]
  },
  {
   "cell_type": "code",
   "execution_count": 6,
   "metadata": {
    "ExecuteTime": {
     "end_time": "2020-11-02T13:04:07.562176Z",
     "start_time": "2020-11-02T13:04:07.547213Z"
    }
   },
   "outputs": [],
   "source": [
    "N_attempts = [1, 10, 20, 30, 40, 50, 60, 70, 80, 90, 100]\n",
    "N_atom = [8, 10, 13]\n",
    "solver = ['Nelder-Mead',  #0\n",
    "          'Powell',       #1\n",
    "          'CG',           #2\n",
    "          'BFGS',         #3\n",
    "          'Newton-CG',    #4\n",
    "          'L-BFGS-B',     #5\n",
    "          'TNC',          #6\n",
    "          'COBYLA',       #7\n",
    "          'SLSQP',        #8\n",
    "          'trust-constr', #9\n",
    "          'dogleg',       #10\n",
    "          'trust-ncg',    #11\n",
    "          'trust-exact',  #12\n",
    "          'trust-krylov'] #13"
   ]
  },
  {
   "cell_type": "code",
   "execution_count": 7,
   "metadata": {
    "ExecuteTime": {
     "end_time": "2020-11-02T13:04:11.183176Z",
     "start_time": "2020-11-02T13:04:07.563177Z"
    }
   },
   "outputs": [
    {
     "name": "stdout",
     "output_type": "stream",
     "text": [
      "step:  0   values: -2.9999485253489784\n",
      "step:  10   values: -2.999990923726141\n",
      "step:  20   values: -2.999982387889096\n",
      "step:  30   values: -2.999999662602685\n",
      "step:  40   values: -2.036476377137338\n",
      "step:  50   values: -2.0475458259137733\n",
      "step:  60   values: -1.0144584972027408\n",
      "step:  70   values: -2.999998451337161\n",
      "step:  80   values: -1.0238653958343784\n",
      "step:  90   values: -2.9999988138814846\n",
      "step:  100   values: -2.9999731434183503\n",
      "step:  110   values: -1.0105448512416677\n",
      "step:  120   values: -2.174677833559637\n",
      "step:  130   values: -2.999999870318545\n",
      "step:  140   values: -2.999996453405079\n",
      "step:  150   values: -2.9999998934429235\n",
      "step:  160   values: -2.9999416110234183\n",
      "step:  170   values: -2.999999032513105\n",
      "step:  180   values: -2.999997924277139\n",
      "step:  190   values: -2.999999953965688\n",
      "The global minimum:   -2.9999999992715267\n",
      "Published Minimum:    -3.0\n",
      "The Global minimum is reached 30.0% out of 200 attempts.\n",
      "With an elapsed time of  3.395000457763672 seconds with solver L-BFGS-B\n"
     ]
    },
    {
     "data": {
      "image/png": "[encoded data removed]",
      "text/plain": [
       "<Figure size 432x288 with 1 Axes>"
      ]
     },
     "metadata": {
      "needs_background": "dark"
     },
     "output_type": "display_data"
    },
    {
     "data": {
      "text/plain": [
       "(-2.9999999992715267, 3.395000457763672)"
      ]
     },
     "execution_count": 7,
     "metadata": {},
     "output_type": "execute_result"
    }
   ],
   "source": [
    "LJ_Global_Min(N_atom=3, \n",
    "              N_attempts=2*N_attempts[10], \n",
    "              solver=solver[5], \n",
    "              details=True, \n",
    "              hist=True, \n",
    "              Length=3,\n",
    "              tolerance=0.000001)"
   ]
  }
 ],
 "metadata": {
  "kernelspec": {
   "display_name": "Python 3",
   "language": "python",
   "name": "python3"
  },
  "language_info": {
   "codemirror_mode": {
    "name": "ipython",
    "version": 3
   },
   "file_extension": ".py",
   "mimetype": "text/x-python",
   "name": "python",
   "nbconvert_exporter": "python",
   "pygments_lexer": "ipython3",
   "version": "3.8.3"
  },
  "varInspector": {
   "cols": {
    "lenName": 16,
    "lenType": 16,
    "lenVar": 40
   },
   "kernels_config": {
    "python": {
     "delete_cmd_postfix": "",
     "delete_cmd_prefix": "del ",
     "library": "var_list.py",
     "varRefreshCmd": "print(var_dic_list())"
    },
    "r": {
     "delete_cmd_postfix": ") ",
     "delete_cmd_prefix": "rm(",
     "library": "var_list.r",
     "varRefreshCmd": "cat(var_dic_list()) "
    }
   },
   "types_to_exclude": [
    "module",
    "function",
    "builtin_function_or_method",
    "instance",
    "_Feature"
   ],
   "window_display": false
  }
 },
 "nbformat": 4,
 "nbformat_minor": 4
}
