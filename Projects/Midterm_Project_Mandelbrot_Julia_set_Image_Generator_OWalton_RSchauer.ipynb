{
 "cells": [
  {
   "cell_type": "markdown",
   "metadata": {},
   "source": [
    "# Mandelbrot Set\n"
   ]
  },
  {
   "cell_type": "markdown",
   "metadata": {},
   "source": [
    "Explore the dynamic nature of the Mandelbrot and Julia sets."
   ]
  },
  {
   "cell_type": "markdown",
   "metadata": {},
   "source": [
    "### References\n",
    "\n",
    " <br />\n",
    " \n",
    "\n",
    "  https://en.wikipedia.org/wiki/Mandelbrot_set\n",
    " \n",
    " <br />\n",
    " \n",
    "\n",
    "  https://en.wikipedia.org/wiki/Julia_set\n",
    " \n",
    " <br />\n",
    " \n",
    "\n",
    "[Karlsims.com](https://www.karlsims.com/julia.html) provides an excellent explanation of the nature of the Julia sets.\n",
    "   \n",
    "Below is a video from the above website which visualizes the process by which a Julia set image is generated.\n",
    " \n",
    " <br />\n",
    " \n",
    "\n",
    "The [Mandelbrotbrower website](http://www.cuug.ab.ca/dewara/mandelbrot/Mandelbrowser.html)\n",
    "provides a list of interesting points along the Mandelbrot set.\n",
    "\n",
    "These points can be entered into the generator below to reproduce similar images.\n",
    "\n",
    "\n",
    "\n"
   ]
  },
  {
   "cell_type": "code",
   "execution_count": 11,
   "metadata": {
    "ExecuteTime": {
     "end_time": "2020-11-04T10:49:55.450036Z",
     "start_time": "2020-11-04T10:49:55.439292Z"
    }
   },
   "outputs": [
    {
     "name": "stderr",
     "output_type": "stream",
     "text": [
      "C:\\Users\\ras42\\anaconda3\\lib\\site-packages\\IPython\\core\\display.py:717: UserWarning:\n",
      "\n",
      "Consider using IPython.display.IFrame instead\n",
      "\n"
     ]
    },
    {
     "data": {
      "text/html": [
       "<iframe width=\"560\" height=\"315\" src=\"https://www.youtube.com/embed/R1gpm7WsNhg\" frameborder=\"0\" allow=\"accelerometer; autoplay; clipboard-write; encrypted-media; gyroscope; picture-in-picture\" allowfullscreen></iframe>"
      ],
      "text/plain": [
       "<IPython.core.display.HTML object>"
      ]
     },
     "execution_count": 11,
     "metadata": {},
     "output_type": "execute_result"
    }
   ],
   "source": [
    "from IPython.display import HTML\n",
    "\n",
    "# Youtube\n",
    "HTML('<iframe width=\"560\" height=\"315\" src=\"https://www.youtube.com/embed/R1gpm7WsNhg\" frameborder=\"0\" allow=\"accelerometer; autoplay; clipboard-write; encrypted-media; gyroscope; picture-in-picture\" allowfullscreen></iframe>')\n"
   ]
  },
  {
   "cell_type": "code",
   "execution_count": 1,
   "metadata": {
    "ExecuteTime": {
     "end_time": "2020-11-04T10:28:53.899912Z",
     "start_time": "2020-11-04T10:28:52.455106Z"
    },
    "scrolled": false
   },
   "outputs": [],
   "source": [
    "%matplotlib inline  \n",
    "import numpy as np\n",
    "from numpy import sqrt, log2, arctan2, sin, cos\n",
    "\n",
    "import matplotlib as mpl\n",
    "import matplotlib.pyplot as plt\n",
    "from matplotlib import cm\n",
    "from matplotlib import style\n",
    "from matplotlib.animation import FuncAnimation as FA\n",
    "from time import time\n",
    "\n",
    "from numba import jit, njit\n",
    "\n",
    "import IPython\n",
    "from IPython import display\n",
    "# from IPython.display import display as disp\n",
    "import ipywidgets as widgets\n",
    "\n",
    "import plotly.graph_objects as go\n",
    "import plotly.express as px\n",
    "\n",
    "\n",
    "\n",
    "# plt.rcParams[\"figure.figsize\"]=(20,20) #sets the default image size\n",
    "# plt.rcParams[\"figure.dpi\"]=(300)"
   ]
  },
  {
   "cell_type": "markdown",
   "metadata": {},
   "source": [
    "#### Julia and Mandelbrot generator functions"
   ]
  },
  {
   "cell_type": "code",
   "execution_count": 2,
   "metadata": {
    "ExecuteTime": {
     "end_time": "2020-11-04T10:28:53.915297Z",
     "start_time": "2020-11-04T10:28:53.900788Z"
    },
    "scrolled": false
   },
   "outputs": [],
   "source": [
    "@jit(forceobj=True)\n",
    "def Julia(cx, cy, center_x=0, center_y=0, frame_radius=2, max_iter=100, resolution=500):\n",
    "    C = complex(cx, cy)\n",
    "    R = (1 + sqrt(1 + 4*sqrt(cx*cx + cy*cy)))/2 #escape radius\n",
    "    \n",
    "    xmin = center_x - frame_radius\n",
    "    xmax = center_x + frame_radius\n",
    "    ymin = center_y - frame_radius\n",
    "    ymax = center_y + frame_radius\n",
    "    # NxN matrix populated with zeros\n",
    "    z_arr = np.zeros([resolution,resolution], dtype=np.float64, order='C')\n",
    "    \n",
    "    x = np.linspace(xmin, xmax, resolution)\n",
    "    y = np.linspace(ymin, ymax, resolution)\n",
    "   \n",
    "    for _x in range(len(x)):\n",
    "        for _y in range(len(y)):\n",
    "            i = 0\n",
    "            z = complex(x[_x],y[_y])\n",
    "            while abs(z) < R and i < max_iter:\n",
    "                z = z*z + C\n",
    "                i +=1\n",
    "                \n",
    "            if abs(z) >= R:\n",
    "                for j in range(2):\n",
    "                    z = z*z + C\n",
    "                    i +=1\n",
    "                if abs(z) > 0:\n",
    "                    i -= log2(log2(abs(z)))\n",
    "            \n",
    "            if i > 0:\n",
    "                z_arr[_y,_x] = i\n",
    "            else:\n",
    "                z_arr[_y,_x] = 0\n",
    "            \n",
    "    return z_arr\n",
    "\n",
    "@jit(forceobj=True)\n",
    "def Mandelbrot(center_x, center_y, frame_radius=2, max_iter=100, resolution=500 , escape_radius = 2):\n",
    "\n",
    "    R = escape_radius\n",
    "\n",
    "    xmin = center_x - frame_radius\n",
    "    xmax = center_x + frame_radius\n",
    "    ymin = center_y - frame_radius\n",
    "    ymax = center_y + frame_radius\n",
    "    # NxN matrix populated with zeros\n",
    "    z_arr = np.zeros([resolution,resolution], dtype=np.float64, order='C')\n",
    "    \n",
    "    x = np.linspace(xmin, xmax, resolution)\n",
    "    y = np.linspace(ymin, ymax, resolution)\n",
    "\n",
    "    \n",
    "    for _x in range(len(x)):\n",
    "        for _y in range(len(y)):\n",
    "            i = 0\n",
    "            z = complex(0,0)\n",
    "            C = complex(x[_x],y[_y])\n",
    "            while abs(z) <= R and i <= max_iter:\n",
    "                z = z*z + C\n",
    "                i +=1\n",
    "                \n",
    "            if abs(z) > R:\n",
    "                for j in range(2):\n",
    "                    z = z*z + C\n",
    "                    i +=1\n",
    "\n",
    "            z_arr[_y,_x] = i\n",
    "            \n",
    "    return z_arr\n",
    "                "
   ]
  },
  {
   "cell_type": "markdown",
   "metadata": {},
   "source": [
    "#### Colormaps"
   ]
  },
  {
   "cell_type": "code",
   "execution_count": 3,
   "metadata": {
    "ExecuteTime": {
     "end_time": "2020-11-04T10:28:53.931280Z",
     "start_time": "2020-11-04T10:28:53.920169Z"
    }
   },
   "outputs": [],
   "source": [
    "color_scales=['aggrnyl', 'agsunset', 'algae', 'amp', 'armyrose', 'balance',\n",
    "             'blackbody', 'bluered', 'blues', 'blugrn', 'bluyl', 'brbg',\n",
    "             'brwnyl', 'bugn', 'bupu', 'burg', 'burgyl', 'cividis', 'curl',\n",
    "             'darkmint', 'deep', 'delta', 'dense', 'earth', 'edge', 'electric',\n",
    "             'emrld', 'fall', 'geyser', 'gnbu', 'gray', 'greens', 'greys',\n",
    "             'haline', 'hot', 'hsv', 'ice', 'icefire', 'inferno', 'jet',\n",
    "             'magenta', 'magma', 'matter', 'mint', 'mrybm', 'mygbm', 'oranges',\n",
    "             'orrd', 'oryel', 'peach', 'phase', 'picnic', 'pinkyl', 'piyg',\n",
    "             'plasma', 'plotly3', 'portland', 'prgn', 'pubu', 'pubugn', 'puor',\n",
    "             'purd', 'purp', 'purples', 'purpor', 'rainbow', 'rdbu', 'rdgy',\n",
    "             'rdpu', 'rdylbu', 'rdylgn', 'redor', 'reds', 'solar', 'spectral',\n",
    "             'speed', 'sunset', 'sunsetdark', 'teal', 'tealgrn', 'tealrose',\n",
    "             'tempo', 'temps', 'thermal', 'tropic', 'turbid', 'twilight',\n",
    "             'viridis', 'ylgn', 'ylgnbu', 'ylorbr', 'ylorrd']\n",
    "\n",
    "color_scales_r=[]\n",
    "for _r in range(len(color_scales)):\n",
    "    color_scales_r.append(color_scales[_r]+'_r')\n",
    "    \n",
    "all_colors = []\n",
    "for c in range(len(color_scales)):\n",
    "    all_colors.append(color_scales[c])\n",
    "    all_colors.append(color_scales_r[c])\n",
    "\n",
    "# print(all_colors)"
   ]
  },
  {
   "cell_type": "markdown",
   "metadata": {},
   "source": [
    "#### Widgets"
   ]
  },
  {
   "cell_type": "code",
   "execution_count": 4,
   "metadata": {
    "ExecuteTime": {
     "end_time": "2020-11-04T10:28:54.024230Z",
     "start_time": "2020-11-04T10:28:53.933148Z"
    },
    "code_folding": [],
    "hide_input": false,
    "scrolled": false
   },
   "outputs": [],
   "source": [
    "items_layout = widgets.Layout( width='auto')     # override the default width of the button to 'auto' to let the button grow\n",
    "\n",
    "box_layout = widgets.Layout(\n",
    "    display='flex',\n",
    "    flex_flow='column',\n",
    "    align_items='stretch',\n",
    "    border='solid',\n",
    "    width='50%'\n",
    ")\n",
    "\n",
    "\n",
    "julia_cx = widgets.FloatText(\n",
    "    value=-0.79,\n",
    "    step=1/1000,\n",
    "    description='Julia Re(C):',\n",
    "    disabled=False,\n",
    "    continuous_update=False,\n",
    "    orientation='horizontal',\n",
    "    readout=True,\n",
    "    readout_format='.3f',\n",
    ")\n",
    "\n",
    "julia_cy = widgets.FloatText(\n",
    "    value=0.15,\n",
    "    step=1/1000,\n",
    "    description='Julia Im(C):',\n",
    "    disabled=False,\n",
    "    continuous_update=False,\n",
    "    orientation='horizontal',\n",
    "    readout=True,\n",
    "    readout_format='.3f',\n",
    ")\n",
    "\n",
    "resolution = widgets.IntText(\n",
    "    value=600,\n",
    "    min=100,\n",
    "    max=10000,\n",
    "    step=50,\n",
    "    description='Resolution:',\n",
    "    disabled=False,\n",
    "    continuous_update=False,\n",
    "    orientation='horizontal',\n",
    "    readout=True\n",
    ")\n",
    "\n",
    "max_iterations = widgets.IntText(\n",
    "    value=150,\n",
    "    min=1,\n",
    "    max=10000,\n",
    "    step=50,\n",
    "    description='Iterations:',\n",
    "    disabled=False,\n",
    "    continuous_update=False,\n",
    "    orientation='horizontal',\n",
    "    readout=True\n",
    ")\n",
    "\n",
    "radius_input = widgets.FloatText(\n",
    "    value=2,\n",
    "    description='Frame Radius:',\n",
    "    disabled=False,\n",
    "    continuous_update=False,\n",
    "    orientation='vertical',\n",
    "    readout=True,\n",
    "    readout_format='.3f',\n",
    ")\n",
    "\n",
    "frame_center_x = widgets.FloatText(\n",
    "    value=0.0,\n",
    "    step=1/1000,\n",
    "    description='X Center:',\n",
    "    disabled=False,\n",
    "    continuous_update=False,\n",
    "    orientation='vertical',\n",
    "    readout=True,\n",
    "    readout_format='.3f',\n",
    ")\n",
    "\n",
    "frame_center_y = widgets.FloatText(\n",
    "    value=0.0,\n",
    "    step=1/1000,\n",
    "    description='Y Center:',\n",
    "    disabled=False,\n",
    "    continuous_update=False,\n",
    "    orientation='vertical',\n",
    "    readout=True,\n",
    "    readout_format='.3f',\n",
    ")\n",
    "\n",
    "colors = widgets.Dropdown(\n",
    "    options =all_colors,\n",
    "    value ='icefire_r',\n",
    "    description='Colormap',\n",
    "    disabled=False\n",
    ")\n",
    "\n",
    "#Contrast Rescaling\n",
    "contrast = widgets.RadioButtons(\n",
    "    options=['minmax', 'infer', None ],\n",
    "    value=None, # Defaults to 'pineapple'\n",
    "    layout={'width': 'max-content'}, # If the items' names are long\n",
    "    description='Contrast:',\n",
    "    disabled=False,\n",
    "    orientation='horizontal'\n",
    ")\n",
    "\n",
    "compression = widgets.RadioButtons(\n",
    "    options=['png', 'jpg'],\n",
    "    value='png', # Defaults to 'pineapple'\n",
    "    layout={'width': 'max-content'}, # If the items' names are long\n",
    "    description='Compression:',\n",
    "    disabled=False,\n",
    "    orientation='horizontal'\n",
    ")\n",
    "\n",
    "plot_choice = widgets.RadioButtons(\n",
    "    options=['Julia', 'Mandelbrot'],\n",
    "    value='Julia',\n",
    "    layout={'width': 'max-content'}, # If the items' names are long\n",
    "    description='Plot Type:',\n",
    "    disabled=False,\n",
    "    orientation='horizontal'\n",
    ")\n",
    "\n",
    "plot_button = widgets.Button(description=\"Plot Image\")\n",
    "clear_button = widgets.Button(description=\"Clear Images\")\n",
    "buttons = widgets.HBox([plot_button,clear_button])\n",
    "frame_radius = widgets.HBox([frame_center_x, frame_center_y, radius_input])\n",
    "julia_cxcy = widgets.HBox([julia_cx, julia_cy])\n",
    "reso_iter = widgets.HBox([plot_choice, resolution, max_iterations])\n",
    "plot_color_con = widgets.HBox([colors, contrast, compression])\n",
    "output = widgets.Output()\n"
   ]
  },
  {
   "cell_type": "markdown",
   "metadata": {},
   "source": [
    "#### Widget Buttons"
   ]
  },
  {
   "cell_type": "code",
   "execution_count": 5,
   "metadata": {
    "ExecuteTime": {
     "end_time": "2020-11-04T10:28:54.043081Z",
     "start_time": "2020-11-04T10:28:54.025501Z"
    },
    "hide_input": false,
    "scrolled": false
   },
   "outputs": [],
   "source": [
    "\n",
    "def on_button_clicked1(b):\n",
    "    with output:\n",
    "        \n",
    "        _x = frame_center_x.value\n",
    "        _y = frame_center_y.value\n",
    "        radius = radius_input.value\n",
    "        max_iter = max_iterations.value\n",
    "        real = 'Real Numbers'\n",
    "        imag = 'Imaginary Number'\n",
    "\n",
    "        xmin = _x - radius\n",
    "        xmax = _x + radius\n",
    "        ymin = _y - radius\n",
    "        ymax = _y + radius\n",
    "        \n",
    "        x=np.linspace(xmin, xmax, resolution.value)\n",
    "        y=np.linspace(ymin, ymax, resolution.value)\n",
    "        \n",
    "        t = time()\n",
    "        \n",
    "        if plot_choice.value=='Julia':\n",
    "            \n",
    "            px.Range(label='Julia set')\n",
    "            cx = julia_cx.value\n",
    "            cy = julia_cy.value\n",
    "            \n",
    "            title = 'Julia Set: z^2 +(' + str(cx) + ')+('+ str(cy) +')i '\n",
    "            print(title)\n",
    "            \n",
    "            z = Julia(\n",
    "                cx=julia_cx.value, \n",
    "                cy=julia_cy.value, \n",
    "                center_x=_x, \n",
    "                center_y=_y, \n",
    "                frame_radius=radius, \n",
    "                max_iter=max_iterations.value,\n",
    "                resolution=resolution.value\n",
    "            )\n",
    "    \n",
    "        elif plot_choice.value=='Mandelbrot':\n",
    "            \n",
    "            px.Range(label='Mandelbrot set')\n",
    "            \n",
    "            title = 'Mandelbrot Set: z^2 + x + iy'\n",
    "            print(title)\n",
    "            \n",
    "            z = Mandelbrot(\n",
    "                center_x=_x, \n",
    "                center_y=_y, \n",
    "                frame_radius=radius, \n",
    "                max_iter=max_iterations.value,\n",
    "                resolution=resolution.value\n",
    "            )\n",
    "        elapsed = time() - t\n",
    "        \n",
    "        info = 'Bounds: x-axis:[' + str(xmin) + ', ' + str(xmax)+'], y-axis:[' + str(ymin) + ', ' + str(ymax) + ']'\n",
    "        print(info)\n",
    "        print('Center: (' + str(_x) + ', ' + str(_y) + '), Radius:', radius)\n",
    "        print('Iterations: ' + str(max_iter) + ', Colormap:', colors.value)\n",
    "        \n",
    "        \n",
    "        fig = px.imshow(\n",
    "            z,\n",
    "            x=x,\n",
    "            y=y,\n",
    "            width=resolution.value,\n",
    "            height=resolution.value,\n",
    "            origin='lower',\n",
    "            color_continuous_scale=colors.value,\n",
    "            contrast_rescaling=contrast.value,\n",
    "            labels={'x':real,'y':imag},\n",
    "            binary_format=compression.value\n",
    "        )\n",
    "        \n",
    "        print('Time:', elapsed, 'seconds')\n",
    "        fig.show()\n",
    "\n",
    "def on_button_clicked2(b):\n",
    "    with output:\n",
    "        IPython.display.clear_output(wait=False)\n",
    "\n"
   ]
  },
  {
   "cell_type": "markdown",
   "metadata": {},
   "source": [
    "#### Plot Generator"
   ]
  },
  {
   "cell_type": "code",
   "execution_count": 6,
   "metadata": {
    "ExecuteTime": {
     "end_time": "2020-11-04T10:28:54.073896Z",
     "start_time": "2020-11-04T10:28:54.044021Z"
    },
    "scrolled": false
   },
   "outputs": [
    {
     "data": {
      "application/vnd.jupyter.widget-view+json": {
       "model_id": "d8e731c5afe6405f8d73deb9a94aca7a",
       "version_major": 2,
       "version_minor": 0
      },
      "text/plain": [
       "HBox(children=(FloatText(value=0.0, description='X Center:', step=0.001), FloatText(value=0.0, description='Y …"
      ]
     },
     "metadata": {},
     "output_type": "display_data"
    },
    {
     "data": {
      "application/vnd.jupyter.widget-view+json": {
       "model_id": "c8d98139b9554b0aa1d6a5389a70d5c0",
       "version_major": 2,
       "version_minor": 0
      },
      "text/plain": [
       "HBox(children=(FloatText(value=-0.79, description='Julia Re(C):', step=0.001), FloatText(value=0.15, descripti…"
      ]
     },
     "metadata": {},
     "output_type": "display_data"
    },
    {
     "data": {
      "application/vnd.jupyter.widget-view+json": {
       "model_id": "bdc5b4bacf4b417ea815161d733f1b17",
       "version_major": 2,
       "version_minor": 0
      },
      "text/plain": [
       "HBox(children=(RadioButtons(description='Plot Type:', layout=Layout(width='max-content'), options=('Julia', 'M…"
      ]
     },
     "metadata": {},
     "output_type": "display_data"
    },
    {
     "data": {
      "application/vnd.jupyter.widget-view+json": {
       "model_id": "d265b24fc7fc4253ae959f94b2599e02",
       "version_major": 2,
       "version_minor": 0
      },
      "text/plain": [
       "HBox(children=(Dropdown(description='Colormap', index=75, options=('aggrnyl', 'aggrnyl_r', 'agsunset', 'agsuns…"
      ]
     },
     "metadata": {},
     "output_type": "display_data"
    },
    {
     "data": {
      "application/vnd.jupyter.widget-view+json": {
       "model_id": "899fb562f16a4b8688f012eec13d38c5",
       "version_major": 2,
       "version_minor": 0
      },
      "text/plain": [
       "HBox(children=(Button(description='Plot Image', style=ButtonStyle()), Button(description='Clear Images', style…"
      ]
     },
     "metadata": {},
     "output_type": "display_data"
    },
    {
     "data": {
      "application/vnd.jupyter.widget-view+json": {
       "model_id": "d0003848267946a6a161499e3810763b",
       "version_major": 2,
       "version_minor": 0
      },
      "text/plain": [
       "Output()"
      ]
     },
     "metadata": {},
     "output_type": "display_data"
    }
   ],
   "source": [
    "IPython.display.display(frame_radius, julia_cxcy, reso_iter, plot_color_con, buttons, output)\n",
    "\n",
    "plot_button.on_click(on_button_clicked1)\n",
    "clear_button.on_click(on_button_clicked2)"
   ]
  },
  {
   "cell_type": "code",
   "execution_count": null,
   "metadata": {},
   "outputs": [],
   "source": []
  }
 ],
 "metadata": {
  "kernelspec": {
   "display_name": "Python 3",
   "language": "python",
   "name": "python3"
  },
  "language_info": {
   "codemirror_mode": {
    "name": "ipython",
    "version": 3
   },
   "file_extension": ".py",
   "mimetype": "text/x-python",
   "name": "python",
   "nbconvert_exporter": "python",
   "pygments_lexer": "ipython3",
   "version": "3.8.5"
  },
  "latex_envs": {
   "LaTeX_envs_menu_present": true,
   "autoclose": false,
   "autocomplete": true,
   "bibliofile": "biblio.bib",
   "cite_by": "apalike",
   "current_citInitial": 1,
   "eqLabelWithNumbers": true,
   "eqNumInitial": 1,
   "hotkeys": {
    "equation": "Ctrl-E",
    "itemize": "Ctrl-I"
   },
   "labels_anchors": false,
   "latex_user_defs": false,
   "report_style_numbering": false,
   "user_envs_cfg": false
  },
  "varInspector": {
   "cols": {
    "lenName": 16,
    "lenType": 16,
    "lenVar": 40
   },
   "kernels_config": {
    "python": {
     "delete_cmd_postfix": "",
     "delete_cmd_prefix": "del ",
     "library": "var_list.py",
     "varRefreshCmd": "print(var_dic_list())"
    },
    "r": {
     "delete_cmd_postfix": ") ",
     "delete_cmd_prefix": "rm(",
     "library": "var_list.r",
     "varRefreshCmd": "cat(var_dic_list()) "
    }
   },
   "types_to_exclude": [
    "module",
    "function",
    "builtin_function_or_method",
    "instance",
    "_Feature"
   ],
   "window_display": false
  }
 },
 "nbformat": 4,
 "nbformat_minor": 4
}
