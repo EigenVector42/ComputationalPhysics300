{
 "cells": [
  {
   "cell_type": "code",
   "execution_count": 1,
   "metadata": {},
   "outputs": [],
   "source": [
    "R = 1.097e-2 #Rydberg constant\n",
    "m = [1,2,3]\n",
    "n = [1,2,3,4,5] #energy levels\n",
    "series = ['Lyman', 'Balmer', 'Paschen']"
   ]
  },
  {
   "cell_type": "code",
   "execution_count": 4,
   "metadata": {},
   "outputs": [
    {
     "name": "stdout",
     "output_type": "stream",
     "text": [
      "Lyman series, m = 1\n",
      "n = 2  Lambda = 121.5436037678517\n",
      "n = 3  Lambda = 102.55241567912488\n",
      "n = 4  Lambda = 97.23488301428137\n",
      "n = 5  Lambda = 94.95594044363415\n",
      "n = 6  Lambda = 93.76220862091418\n",
      "\n",
      "\n",
      "Balmer series, m = 2\n",
      "n = 3  Lambda = 656.3354603463993\n",
      "n = 4  Lambda = 486.1744150714068\n",
      "n = 5  Lambda = 434.084299170899\n",
      "n = 6  Lambda = 410.2096627164995\n",
      "n = 7  Lambda = 397.04243897498225\n",
      "\n",
      "\n",
      "Paschen series, m = 3\n",
      "n = 4  Lambda = 1875.2441724182836\n",
      "n = 5  Lambda = 1281.9051959890612\n",
      "n = 6  Lambda = 1093.8924339106654\n",
      "n = 7  Lambda = 1005.013673655424\n",
      "n = 8  Lambda = 954.6697605038536\n",
      "\n",
      "\n"
     ]
    }
   ],
   "source": [
    "for a in [1,2,3]:\n",
    "    print(series[a-1], \"series, m =\", a)\n",
    "    for b in [1,2,3,4,5]:\n",
    "        inv_lambda = R*(1/a**2 - 1/(a+b)**2)\n",
    "        ryd_lambda = 1/inv_lambda\n",
    "        print(\"n =\", a+b, \" Lambda =\", ryd_lambda)\n",
    "    print(\"\\n\")"
   ]
  }
 ],
 "metadata": {
  "kernelspec": {
   "display_name": "Python 3",
   "language": "python",
   "name": "python3"
  },
  "language_info": {
   "codemirror_mode": {
    "name": "ipython",
    "version": 3
   },
   "file_extension": ".py",
   "mimetype": "text/x-python",
   "name": "python",
   "nbconvert_exporter": "python",
   "pygments_lexer": "ipython3",
   "version": "3.8.3"
  }
 },
 "nbformat": 4,
 "nbformat_minor": 4
}
